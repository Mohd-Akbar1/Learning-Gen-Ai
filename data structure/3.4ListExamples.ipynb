{
 "cells": [
  {
   "cell_type": "markdown",
   "id": "e2f3d679",
   "metadata": {},
   "source": [
    "## todo list\n"
   ]
  },
  {
   "cell_type": "code",
   "execution_count": 3,
   "id": "fbd06d76",
   "metadata": {},
   "outputs": [
    {
     "name": "stdout",
     "output_type": "stream",
     "text": [
      "dont forget going to gym ....\n",
      "Todo remaling in list...\n",
      "buy vegetables\n",
      "go to gym\n",
      "go to office\n"
     ]
    }
   ],
   "source": [
    "todo_list=[\"buy vegetables\",\"go to gym\"]\n",
    "\n",
    "## adding tasks\n",
    "todo_list.append('go to office')\n",
    "todo_list.append('pay the bill')\n",
    "\n",
    "## removing once done\n",
    "todo_list.remove(\"pay the bill\")\n",
    "\n",
    "## checks if the task is in the list\n",
    "if \"go to gym\" in todo_list:\n",
    "    print(\"dont forget going to gym ....\")\n",
    "\n",
    "print(\"Todo remaling in list...\")\n",
    "\n",
    "for items in todo_list:\n",
    "    print(items)"
   ]
  },
  {
   "cell_type": "code",
   "execution_count": null,
   "id": "4c988e81",
   "metadata": {},
   "outputs": [],
   "source": []
  }
 ],
 "metadata": {
  "kernelspec": {
   "display_name": "Python 3",
   "language": "python",
   "name": "python3"
  },
  "language_info": {
   "codemirror_mode": {
    "name": "ipython",
    "version": 3
   },
   "file_extension": ".py",
   "mimetype": "text/x-python",
   "name": "python",
   "nbconvert_exporter": "python",
   "pygments_lexer": "ipython3",
   "version": "3.12.0"
  }
 },
 "nbformat": 4,
 "nbformat_minor": 5
}
