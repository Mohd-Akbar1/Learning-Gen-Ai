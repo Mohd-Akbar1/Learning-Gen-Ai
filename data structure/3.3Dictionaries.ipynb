{
 "cells": [
  {
   "cell_type": "markdown",
   "id": "2aba9f28",
   "metadata": {},
   "source": [
    "## dictionaries are unordered collections of items which are stored in key value paris key must be unique and immutable\n",
    "\n",
    "\n"
   ]
  },
  {
   "cell_type": "code",
   "execution_count": 1,
   "id": "d66afce8",
   "metadata": {},
   "outputs": [
    {
     "name": "stdout",
     "output_type": "stream",
     "text": [
      "<class 'dict'>\n"
     ]
    }
   ],
   "source": [
    "## creating dictionaries\n",
    "empty_dict={}\n",
    "print(type(empty_dict))"
   ]
  },
  {
   "cell_type": "code",
   "execution_count": 4,
   "id": "19024041",
   "metadata": {},
   "outputs": [
    {
     "data": {
      "text/plain": [
       "{'name': 'Akbar', 'isStudent': True}"
      ]
     },
     "execution_count": 4,
     "metadata": {},
     "output_type": "execute_result"
    }
   ],
   "source": [
    "empty_dict1=dict()\n",
    "student={\"name\":\"Akbar\",\"isStudent\":True}\n",
    "student"
   ]
  },
  {
   "cell_type": "code",
   "execution_count": 8,
   "id": "2045b8b9",
   "metadata": {},
   "outputs": [
    {
     "data": {
      "text/plain": [
       "{'name': 'Akbar', 'isStudent': True, 'age': 14}"
      ]
     },
     "execution_count": 8,
     "metadata": {},
     "output_type": "execute_result"
    }
   ],
   "source": [
    "##Error\n",
    "student={\"name\":\"Akbar\",\"isStudent\":True,\"age\":23,\"age\":14}\n",
    "student"
   ]
  },
  {
   "cell_type": "markdown",
   "id": "e6e9d069",
   "metadata": {},
   "source": []
  },
  {
   "cell_type": "code",
   "execution_count": 14,
   "id": "631c30e2",
   "metadata": {},
   "outputs": [
    {
     "name": "stdout",
     "output_type": "stream",
     "text": [
      "14\n",
      "None\n",
      "Not Available\n"
     ]
    }
   ],
   "source": [
    "## acessing elements\n",
    "student['name']\n",
    "\n",
    "##acessing using get() method\n",
    "\n",
    "print(student.get(\"age\"))\n",
    "print(student.get('grade'))\n",
    "\n",
    "##print(student['grade'])\n",
    "\n",
    "## giving default values\n",
    "print(student.get('grade',\"Not Available\"))"
   ]
  },
  {
   "cell_type": "code",
   "execution_count": 17,
   "id": "4dd550ff",
   "metadata": {},
   "outputs": [
    {
     "name": "stdout",
     "output_type": "stream",
     "text": [
      "{'name': 'Akbar', 'isStudent': True, 'age': 99, 'address': 'mumbai'}\n"
     ]
    }
   ],
   "source": [
    "## modifying elements\n",
    "##dict are mutable\n",
    "student['age']=99\n",
    "student['address']='mumbai'\n",
    "print(student)"
   ]
  },
  {
   "cell_type": "code",
   "execution_count": 18,
   "id": "b8b877ae",
   "metadata": {},
   "outputs": [
    {
     "data": {
      "text/plain": [
       "{'name': 'Akbar', 'isStudent': True, 'address': 'mumbai'}"
      ]
     },
     "execution_count": 18,
     "metadata": {},
     "output_type": "execute_result"
    }
   ],
   "source": [
    "## delete \n",
    "del student['age']\n",
    "student"
   ]
  },
  {
   "cell_type": "code",
   "execution_count": 21,
   "id": "ac33bc4c",
   "metadata": {},
   "outputs": [
    {
     "data": {
      "text/plain": [
       "dict_items([('name', 'Akbar'), ('isStudent', True), ('address', 'mumbai')])"
      ]
     },
     "execution_count": 21,
     "metadata": {},
     "output_type": "execute_result"
    }
   ],
   "source": [
    "## dict methods\n",
    "student.keys()  ## get all keys\n",
    "student.values()## get all values\n",
    "\n",
    "student.items() ## get all key value pairs"
   ]
  },
  {
   "cell_type": "code",
   "execution_count": null,
   "id": "bc4d5932",
   "metadata": {},
   "outputs": [
    {
     "name": "stdout",
     "output_type": "stream",
     "text": [
      "{'name': 'Akbar', 'isStudent': True, 'address': 'mumbai'}\n",
      "{'name': 'Akbar', 'isStudent': True, 'address': 'mumbai'}\n"
     ]
    }
   ],
   "source": [
    "## shallow copy\n",
    "student_copy=student\n",
    "print(student)\n",
    "print(student_copy)"
   ]
  },
  {
   "cell_type": "code",
   "execution_count": 23,
   "id": "ee65f18c",
   "metadata": {},
   "outputs": [
    {
     "name": "stdout",
     "output_type": "stream",
     "text": [
      "{'name': 'rizvi', 'isStudent': True, 'address': 'mumbai'}\n",
      "{'name': 'rizvi', 'isStudent': True, 'address': 'mumbai'}\n"
     ]
    }
   ],
   "source": [
    "student_copy['name']='rizvi'\n",
    "print(student)\n",
    "print(student_copy)"
   ]
  },
  {
   "cell_type": "code",
   "execution_count": null,
   "id": "892722c0",
   "metadata": {},
   "outputs": [
    {
     "name": "stdout",
     "output_type": "stream",
     "text": [
      "{'name': 'rizvi', 'isStudent': True, 'address': 'mumbai'}\n",
      "{'name': 'mohd', 'isStudent': True, 'address': 'mumbai'}\n"
     ]
    }
   ],
   "source": [
    "student_copy=student.copy()  ## allocates different memory\n",
    "student_copy[\"name\"]='mohd'\n",
    "print(student)\n",
    "print(student_copy)"
   ]
  },
  {
   "cell_type": "code",
   "execution_count": 26,
   "id": "771032e4",
   "metadata": {},
   "outputs": [
    {
     "name": "stdout",
     "output_type": "stream",
     "text": [
      "name\n",
      "isStudent\n",
      "address\n"
     ]
    }
   ],
   "source": [
    "## Iterating over dict\n",
    "##Iterating over keys\n",
    "for keys in student.keys():\n",
    "    print(keys)"
   ]
  },
  {
   "cell_type": "code",
   "execution_count": 27,
   "id": "d3feca90",
   "metadata": {},
   "outputs": [
    {
     "name": "stdout",
     "output_type": "stream",
     "text": [
      "rizvi\n",
      "True\n",
      "mumbai\n"
     ]
    }
   ],
   "source": [
    "## Iterate over values\n",
    "for val in student.values():\n",
    "    print(val)"
   ]
  },
  {
   "cell_type": "code",
   "execution_count": null,
   "id": "efe6e554",
   "metadata": {},
   "outputs": [
    {
     "name": "stdout",
     "output_type": "stream",
     "text": [
      "name rizvi\n",
      "isStudent True\n",
      "address mumbai\n"
     ]
    }
   ],
   "source": [
    "## Iterate over pairs\n",
    "for key,val in student.items():\n",
    "    print(key,val)"
   ]
  },
  {
   "cell_type": "code",
   "execution_count": 29,
   "id": "6fbea429",
   "metadata": {},
   "outputs": [
    {
     "name": "stdout",
     "output_type": "stream",
     "text": [
      "{'student1': {'name': 'Akbar', 'age': 23}, 'student2': {'name': 'Mohd', 'age': 13}}\n"
     ]
    }
   ],
   "source": [
    "## Nested dict\n",
    "students={\n",
    "    \"student1\":{\n",
    "        \"name\":\"Akbar\",\n",
    "        \"age\":23\n",
    "    },\n",
    "    \"student2\":{\n",
    "        \"name\":\"Mohd\",\n",
    "        \"age\":13\n",
    "    }\n",
    "}\n",
    "print(students)"
   ]
  },
  {
   "cell_type": "code",
   "execution_count": 31,
   "id": "cc95570f",
   "metadata": {},
   "outputs": [
    {
     "name": "stdout",
     "output_type": "stream",
     "text": [
      "Mohd\n"
     ]
    }
   ],
   "source": [
    "## acess nested dict\n",
    "print(students[\"student2\"][\"name\"])"
   ]
  },
  {
   "cell_type": "code",
   "execution_count": 34,
   "id": "88abef1a",
   "metadata": {},
   "outputs": [
    {
     "name": "stdout",
     "output_type": "stream",
     "text": [
      "student1:{'name': 'Akbar', 'age': 23}\n",
      "name:Akbar\n",
      "age:23\n",
      "student2:{'name': 'Mohd', 'age': 13}\n",
      "name:Mohd\n",
      "age:13\n"
     ]
    }
   ],
   "source": [
    "##Iterating \n",
    "for stud_id,stud_info in students.items():\n",
    "    print(f\"{stud_id}:{stud_info}\")\n",
    "    for idx,val in stud_info.items():\n",
    "        print(f\"{idx}:{val}\")"
   ]
  },
  {
   "cell_type": "code",
   "execution_count": 36,
   "id": "9b25cea8",
   "metadata": {},
   "outputs": [
    {
     "data": {
      "text/plain": [
       "{0: 0, 1: 1, 2: 4, 3: 9, 4: 16, 5: 25, 6: 36, 7: 49, 8: 64, 9: 81, 10: 100}"
      ]
     },
     "execution_count": 36,
     "metadata": {},
     "output_type": "execute_result"
    }
   ],
   "source": [
    "## dict comprehension\n",
    "{x:x**2 for x in range(11)}"
   ]
  },
  {
   "cell_type": "code",
   "execution_count": 37,
   "id": "f504ec46",
   "metadata": {},
   "outputs": [
    {
     "data": {
      "text/plain": [
       "{0: 0, 2: 4, 4: 16, 6: 36, 8: 64, 10: 100}"
      ]
     },
     "execution_count": 37,
     "metadata": {},
     "output_type": "execute_result"
    }
   ],
   "source": [
    "## condtional dict comprehnsion\n",
    "{x:x**2 for x in range(11) if x%2==0}"
   ]
  },
  {
   "cell_type": "code",
   "execution_count": 38,
   "id": "3727c956",
   "metadata": {},
   "outputs": [
    {
     "name": "stdout",
     "output_type": "stream",
     "text": [
      "{1: 1, 2: 2, 3: 3, 4: 4, 5: 1}\n"
     ]
    }
   ],
   "source": [
    "## freqency of every elements in a list\n",
    "numbers=[1,2,2,3,3,3,4,4,4,4,5]\n",
    "freq={}\n",
    "for num in numbers:\n",
    "    if num in freq:\n",
    "        freq[num]+=1\n",
    "    else:\n",
    "        freq[num]=1\n",
    "\n",
    "print(freq)\n"
   ]
  },
  {
   "cell_type": "code",
   "execution_count": null,
   "id": "4a7ead43",
   "metadata": {},
   "outputs": [
    {
     "data": {
      "text/plain": [
       "{'a': 1, 'b': 3, 'c': 23, 'd': 45}"
      ]
     },
     "execution_count": 40,
     "metadata": {},
     "output_type": "execute_result"
    }
   ],
   "source": [
    "## merge two dict\n",
    "dict1={\"a\":1,\"b\":3}\n",
    "dict2={\"c\":23,\"d\":45}\n",
    "merged={**dict1,**dict2}   ## * is a keyword arguemnt\n",
    "\n",
    "merged       "
   ]
  },
  {
   "cell_type": "code",
   "execution_count": null,
   "id": "ceaf261f",
   "metadata": {},
   "outputs": [],
   "source": []
  }
 ],
 "metadata": {
  "kernelspec": {
   "display_name": "Python 3",
   "language": "python",
   "name": "python3"
  },
  "language_info": {
   "codemirror_mode": {
    "name": "ipython",
    "version": 3
   },
   "file_extension": ".py",
   "mimetype": "text/x-python",
   "name": "python",
   "nbconvert_exporter": "python",
   "pygments_lexer": "ipython3",
   "version": "3.12.0"
  }
 },
 "nbformat": 4,
 "nbformat_minor": 5
}
