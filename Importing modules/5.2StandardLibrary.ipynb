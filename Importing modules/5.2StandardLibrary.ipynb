{
 "cells": [
  {
   "cell_type": "markdown",
   "id": "d3873a40",
   "metadata": {},
   "source": [
    "standard library"
   ]
  },
  {
   "cell_type": "code",
   "execution_count": 4,
   "id": "92bb2bfd",
   "metadata": {},
   "outputs": [
    {
     "data": {
      "text/plain": [
       "array('i', [1, 2, 3, 4])"
      ]
     },
     "execution_count": 4,
     "metadata": {},
     "output_type": "execute_result"
    }
   ],
   "source": [
    "import array\n",
    "arr=array.array('i',[1,2,3,4])\n",
    "arr"
   ]
  },
  {
   "cell_type": "code",
   "execution_count": 5,
   "id": "44ae0b9a",
   "metadata": {},
   "outputs": [
    {
     "name": "stdout",
     "output_type": "stream",
     "text": [
      "7.483314773547883\n"
     ]
    }
   ],
   "source": [
    "import math\n",
    "print(math.sqrt(56))"
   ]
  },
  {
   "cell_type": "code",
   "execution_count": 10,
   "id": "24c4fee4",
   "metadata": {},
   "outputs": [
    {
     "name": "stdout",
     "output_type": "stream",
     "text": [
      "9\n",
      "c\n"
     ]
    }
   ],
   "source": [
    "## random\n",
    "import random\n",
    "print(random.randint(1,10))\n",
    "\n",
    "print(random.choice(['a','b','c']))"
   ]
  },
  {
   "cell_type": "code",
   "execution_count": 12,
   "id": "00643ec1",
   "metadata": {},
   "outputs": [
    {
     "name": "stdout",
     "output_type": "stream",
     "text": [
      "c:\\Users\\Abbas Rizvi\\Desktop\\projects profile\\Generative ai\\Importing modules\n"
     ]
    }
   ],
   "source": [
    "## file and directory acess \n",
    "#os\n",
    "import os\n",
    "print(os.getcwd())"
   ]
  },
  {
   "cell_type": "code",
   "execution_count": 14,
   "id": "06317e03",
   "metadata": {},
   "outputs": [],
   "source": [
    "os.mkdir('apple')"
   ]
  },
  {
   "cell_type": "code",
   "execution_count": 17,
   "id": "fb46acbb",
   "metadata": {},
   "outputs": [
    {
     "data": {
      "text/plain": [
       "'text2.py'"
      ]
     },
     "execution_count": 17,
     "metadata": {},
     "output_type": "execute_result"
    }
   ],
   "source": [
    "## high level operation on file and collections on file\n",
    "import shutil\n",
    "shutil.copyfile('sample.txt','text2.py')"
   ]
  },
  {
   "cell_type": "code",
   "execution_count": 22,
   "id": "271d9b17",
   "metadata": {},
   "outputs": [
    {
     "ename": "TypeError",
     "evalue": "dump() missing 1 required positional argument: 'fp'",
     "output_type": "error",
     "traceback": [
      "\u001b[31m---------------------------------------------------------------------------\u001b[39m",
      "\u001b[31mTypeError\u001b[39m                                 Traceback (most recent call last)",
      "\u001b[36mCell\u001b[39m\u001b[36m \u001b[39m\u001b[32mIn[22]\u001b[39m\u001b[32m, line 6\u001b[39m\n\u001b[32m      3\u001b[39m \u001b[38;5;28;01mimport\u001b[39;00m\u001b[38;5;250m \u001b[39m\u001b[34;01mjson\u001b[39;00m\n\u001b[32m      4\u001b[39m data={\u001b[33m'\u001b[39m\u001b[33mname\u001b[39m\u001b[33m'\u001b[39m:\u001b[33m'\u001b[39m\u001b[33mMohd\u001b[39m\u001b[33m'\u001b[39m,\u001b[33m'\u001b[39m\u001b[33mage\u001b[39m\u001b[33m'\u001b[39m:\u001b[32m23\u001b[39m}\n\u001b[32m----> \u001b[39m\u001b[32m6\u001b[39m json_str=\u001b[43mjson\u001b[49m\u001b[43m.\u001b[49m\u001b[43mdump\u001b[49m\u001b[43m(\u001b[49m\u001b[43mdata\u001b[49m\u001b[43m)\u001b[49m\n\u001b[32m      7\u001b[39m \u001b[38;5;28mprint\u001b[39m(json_str)\n\u001b[32m      8\u001b[39m \u001b[38;5;28mprint\u001b[39m(\u001b[38;5;28mtype\u001b[39m(json_str))\n",
      "\u001b[31mTypeError\u001b[39m: dump() missing 1 required positional argument: 'fp'"
     ]
    }
   ],
   "source": [
    "## data serialization \n",
    "## converting in json\n",
    "import json\n",
    "data={'name':'Mohd','age':23}\n",
    "\n",
    "json_str=json.dump(data)\n",
    "print(json_str)\n",
    "print(type(json_str))\n",
    "\n",
    "\n",
    "## converting back\n",
    "parsed_data=json.load(json_str)\n",
    "print(parsed_data)\n",
    "print(type (parsed_data))"
   ]
  },
  {
   "cell_type": "code",
   "execution_count": 23,
   "id": "8c081dbe",
   "metadata": {},
   "outputs": [
    {
     "name": "stdout",
     "output_type": "stream",
     "text": [
      "['name', 'akbar']\n",
      "['age', '33']\n"
     ]
    }
   ],
   "source": [
    "## csv\n",
    "import csv\n",
    "\n",
    "with open('example.csv',mode='w',newline='') as file:\n",
    "    writer=csv.writer(file)\n",
    "    writer.writerow(['name','akbar'])\n",
    "    writer.writerow(['age',33])\n",
    "\n",
    "with open('example.csv',mode='r') as file:\n",
    "    reader=csv.reader(file)\n",
    "    for row in reader:\n",
    "        print(row)"
   ]
  },
  {
   "cell_type": "code",
   "execution_count": 26,
   "id": "0e4ecd29",
   "metadata": {},
   "outputs": [
    {
     "name": "stdout",
     "output_type": "stream",
     "text": [
      "2025-06-11 22:43:46.083451\n",
      "2025-06-10 22:43:46.083451\n"
     ]
    }
   ],
   "source": [
    "##datetime\n",
    "from datetime import datetime,timedelta\n",
    "now=datetime.now()\n",
    "print(now)\n",
    "\n",
    "yesterday=now-timedelta(days=1)\n",
    "print(yesterday)"
   ]
  },
  {
   "cell_type": "code",
   "execution_count": 27,
   "id": "48fc9494",
   "metadata": {},
   "outputs": [
    {
     "name": "stdout",
     "output_type": "stream",
     "text": [
      "1749662094.5967207\n",
      "1749662097.5980873\n"
     ]
    }
   ],
   "source": [
    "## time\n",
    "import time\n",
    "print(time.time())\n",
    "time.sleep(3)\n",
    "print(time.time())\n"
   ]
  },
  {
   "cell_type": "code",
   "execution_count": 30,
   "id": "618a000f",
   "metadata": {},
   "outputs": [
    {
     "name": "stdout",
     "output_type": "stream",
     "text": [
      "223\n"
     ]
    }
   ],
   "source": [
    "## regular expression\n",
    "import re\n",
    "\n",
    "pattern =r'\\d+'\n",
    "text='there are 223 days '\n",
    "match=re.search(pattern,text)\n",
    "print(match.group())"
   ]
  },
  {
   "cell_type": "code",
   "execution_count": null,
   "id": "90f75169",
   "metadata": {},
   "outputs": [],
   "source": []
  }
 ],
 "metadata": {
  "kernelspec": {
   "display_name": "Python 3",
   "language": "python",
   "name": "python3"
  },
  "language_info": {
   "codemirror_mode": {
    "name": "ipython",
    "version": 3
   },
   "file_extension": ".py",
   "mimetype": "text/x-python",
   "name": "python",
   "nbconvert_exporter": "python",
   "pygments_lexer": "ipython3",
   "version": "3.12.0"
  }
 },
 "nbformat": 4,
 "nbformat_minor": 5
}
