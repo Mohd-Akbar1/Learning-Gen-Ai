{
 "cells": [
  {
   "cell_type": "code",
   "execution_count": 2,
   "id": "58b976c6",
   "metadata": {},
   "outputs": [
    {
     "name": "stdout",
     "output_type": "stream",
     "text": [
      "age is above 19\n"
     ]
    }
   ],
   "source": [
    "## if statement\n",
    "age=20\n",
    "if age>=19:\n",
    "    print('age is above 19')"
   ]
  },
  {
   "cell_type": "code",
   "execution_count": 5,
   "id": "b2c6ffa8",
   "metadata": {},
   "outputs": [
    {
     "name": "stdout",
     "output_type": "stream",
     "text": [
      "age is above 18\n"
     ]
    }
   ],
   "source": [
    "## else\n",
    "age=161\n",
    "if age>=18:\n",
    "    print('age is above 18')\n",
    "else:\n",
    "    print('age is less than 18')"
   ]
  },
  {
   "cell_type": "code",
   "execution_count": null,
   "id": "f38240d3",
   "metadata": {},
   "outputs": [
    {
     "name": "stdout",
     "output_type": "stream",
     "text": [
      "your minor\n"
     ]
    }
   ],
   "source": [
    "## elif statement\n",
    "age=1\n",
    "if age>=18:\n",
    "    print('you are above 18 ')\n",
    "elif age>=12:\n",
    "    print('you are above 12')\n",
    "else:\n",
    "    print('your are minor')"
   ]
  },
  {
   "cell_type": "code",
   "execution_count": 15,
   "id": "4c1004f4",
   "metadata": {},
   "outputs": [
    {
     "name": "stdout",
     "output_type": "stream",
     "text": [
      "number is positive\n",
      "and number is also even\n"
     ]
    }
   ],
   "source": [
    "## nested conditional\n",
    "num=0\n",
    "if num>=0:\n",
    "    print('number is positive')\n",
    "    if num%2==0:\n",
    "        print('and number is also even')\n",
    "    else:\n",
    "        print(' and number is odd')\n",
    "else:\n",
    "    print('number is negative')"
   ]
  },
  {
   "cell_type": "code",
   "execution_count": 19,
   "id": "63e331c6",
   "metadata": {},
   "outputs": [
    {
     "name": "stdout",
     "output_type": "stream",
     "text": [
      "year is not a leap year testing in 100\n"
     ]
    }
   ],
   "source": [
    "## leap year\n",
    "year=int(input('enter the year'))\n",
    "\n",
    "if year%4==0:\n",
    "    if year%100==0:\n",
    "        if year%400==0:\n",
    "            print(year,\"is a leap year\")\n",
    "        else:\n",
    "            print(\"year is not a leap year testing in 400\")\n",
    "    else:\n",
    "            print(\"year is not a leap year testing in 100\")\n",
    "else:\n",
    "            print(\"year is not a leap year in 1\")"
   ]
  },
  {
   "cell_type": "code",
   "execution_count": 26,
   "id": "d2df2108",
   "metadata": {},
   "outputs": [
    {
     "name": "stdout",
     "output_type": "stream",
     "text": [
      "not a leap year\n"
     ]
    }
   ],
   "source": [
    "year=2025\n",
    "if year%4==0 and year%400==0 and year%100==0: print(year,\"is a leap year\")\n",
    "else:\n",
    "    print('not a leap year')"
   ]
  },
  {
   "cell_type": "code",
   "execution_count": null,
   "id": "6225df14",
   "metadata": {},
   "outputs": [],
   "source": []
  }
 ],
 "metadata": {
  "kernelspec": {
   "display_name": "Python 3",
   "language": "python",
   "name": "python3"
  },
  "language_info": {
   "codemirror_mode": {
    "name": "ipython",
    "version": 3
   },
   "file_extension": ".py",
   "mimetype": "text/x-python",
   "name": "python",
   "nbconvert_exporter": "python",
   "pygments_lexer": "ipython3",
   "version": "3.12.0"
  }
 },
 "nbformat": 4,
 "nbformat_minor": 5
}
