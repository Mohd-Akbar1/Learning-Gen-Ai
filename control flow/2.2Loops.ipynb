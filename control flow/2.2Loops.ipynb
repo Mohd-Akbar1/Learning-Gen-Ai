{
 "cells": [
  {
   "cell_type": "code",
   "execution_count": 2,
   "id": "5211665d",
   "metadata": {},
   "outputs": [
    {
     "name": "stdout",
     "output_type": "stream",
     "text": [
      "i : 0\n",
      "i : 1\n",
      "i : 2\n",
      "i : 3\n",
      "i : 4\n"
     ]
    }
   ],
   "source": [
    "## for loop\n",
    "## last range number will be excluded\n",
    "for i in range(0,5):\n",
    "    print('i :',i)"
   ]
  },
  {
   "cell_type": "code",
   "execution_count": 3,
   "id": "d9bbf352",
   "metadata": {},
   "outputs": [
    {
     "name": "stdout",
     "output_type": "stream",
     "text": [
      "0\n",
      "2\n",
      "4\n",
      "6\n",
      "8\n"
     ]
    }
   ],
   "source": [
    "## steps\n",
    "## start last step\n",
    "for i in range(0,10,2):\n",
    "    print(i)"
   ]
  },
  {
   "cell_type": "code",
   "execution_count": 6,
   "id": "6ce2ea15",
   "metadata": {},
   "outputs": [
    {
     "name": "stdout",
     "output_type": "stream",
     "text": [
      "10\n",
      "9\n",
      "8\n",
      "7\n",
      "6\n",
      "5\n",
      "4\n",
      "3\n",
      "2\n"
     ]
    }
   ],
   "source": [
    "for i in range(10,1,-1):\n",
    "    print(i)"
   ]
  },
  {
   "cell_type": "code",
   "execution_count": 8,
   "id": "9f40f853",
   "metadata": {},
   "outputs": [
    {
     "name": "stdout",
     "output_type": "stream",
     "text": [
      "M\n",
      "O\n",
      "H\n",
      "D\n",
      " \n",
      "A\n",
      "K\n",
      "B\n",
      "A\n",
      "R\n"
     ]
    }
   ],
   "source": [
    "## strings\n",
    "str='mohd akbar'\n",
    "for i in str:\n",
    "    print(i.upper())"
   ]
  },
  {
   "cell_type": "code",
   "execution_count": 11,
   "id": "883c57a2",
   "metadata": {},
   "outputs": [
    {
     "name": "stdout",
     "output_type": "stream",
     "text": [
      "0\n",
      "1\n",
      "2\n",
      "3\n",
      "4\n",
      "5\n"
     ]
    }
   ],
   "source": [
    "## while loop executes till condition is true\n",
    "count=0\n",
    "while count<=5:\n",
    "    print(count)\n",
    "    count=count+1\n"
   ]
  },
  {
   "cell_type": "code",
   "execution_count": 12,
   "id": "bc8e38f0",
   "metadata": {},
   "outputs": [
    {
     "name": "stdout",
     "output_type": "stream",
     "text": [
      "0\n",
      "1\n",
      "2\n",
      "3\n",
      "4\n"
     ]
    }
   ],
   "source": [
    "## loop control statement\n",
    "## break ,it exits the loops when condition is met\n",
    "for i in range(10):\n",
    "    if i==5:\n",
    "        break\n",
    "    else:\n",
    "        print(i)"
   ]
  },
  {
   "cell_type": "code",
   "execution_count": 13,
   "id": "0dc3ca25",
   "metadata": {},
   "outputs": [
    {
     "name": "stdout",
     "output_type": "stream",
     "text": [
      "0\n",
      "1\n",
      "2\n",
      "3\n",
      "4\n",
      "6\n",
      "7\n",
      "8\n",
      "9\n"
     ]
    }
   ],
   "source": [
    "## continue\n",
    "## skips the current iteration\n",
    "for i in range(10):\n",
    "    if i==5:\n",
    "        continue\n",
    "    else:\n",
    "        print(i)"
   ]
  },
  {
   "cell_type": "code",
   "execution_count": 14,
   "id": "3c92dd51",
   "metadata": {},
   "outputs": [
    {
     "name": "stdout",
     "output_type": "stream",
     "text": [
      "0\n",
      "1\n",
      "2\n",
      "3\n",
      "4\n",
      "print is 5\n",
      "6\n",
      "7\n",
      "8\n",
      "9\n"
     ]
    }
   ],
   "source": [
    "## pass\n",
    "## pass statement is a null operation it does nothing\n",
    "\n",
    "for i in range(10):\n",
    "    if i==5:\n",
    "        print('print is 5')\n",
    "        pass\n",
    "    else:\n",
    "        print(i)"
   ]
  },
  {
   "cell_type": "code",
   "execution_count": 18,
   "id": "e4290343",
   "metadata": {},
   "outputs": [
    {
     "name": "stdout",
     "output_type": "stream",
     "text": [
      "* 0\n",
      "* 0\n",
      "* 1\n",
      "* 0\n",
      "* 1\n",
      "* 2\n",
      "* 0\n",
      "* 1\n",
      "* 2\n",
      "* 3\n"
     ]
    }
   ],
   "source": [
    "## nested loops\n",
    "## a loop inside a loop\n",
    "\n",
    "for i in range(5):\n",
    "    for j in range(i):\n",
    "        print('*',j)"
   ]
  },
  {
   "cell_type": "code",
   "execution_count": 21,
   "id": "44b28543",
   "metadata": {},
   "outputs": [
    {
     "name": "stdout",
     "output_type": "stream",
     "text": [
      "sum of first 100 numbers is: 5050\n"
     ]
    }
   ],
   "source": [
    "## sum of first n natural number\n",
    "\n",
    "## while loop\n",
    "n=100\n",
    "count=0\n",
    "sum=0\n",
    "while count<=n:\n",
    "    sum+=count\n",
    "    count+=1\n",
    "print(f\"sum of first {n} numbers is:\",sum)"
   ]
  },
  {
   "cell_type": "code",
   "execution_count": 25,
   "id": "d9846bd1",
   "metadata": {},
   "outputs": [
    {
     "name": "stdout",
     "output_type": "stream",
     "text": [
      "5050\n"
     ]
    }
   ],
   "source": [
    "## with for loop\n",
    "n=100\n",
    "sum=0\n",
    "for i in range(n+1):\n",
    "    sum+=i\n",
    "print(sum)"
   ]
  },
  {
   "cell_type": "code",
   "execution_count": 32,
   "id": "123755e0",
   "metadata": {},
   "outputs": [
    {
     "name": "stdout",
     "output_type": "stream",
     "text": [
      "1\n",
      "2\n",
      "3\n",
      "5\n",
      "7\n",
      "11\n",
      "13\n",
      "17\n",
      "19\n",
      "23\n",
      "29\n",
      "31\n",
      "37\n",
      "41\n",
      "43\n",
      "47\n",
      "53\n",
      "59\n",
      "61\n",
      "67\n",
      "71\n",
      "73\n",
      "79\n",
      "83\n",
      "89\n",
      "97\n"
     ]
    }
   ],
   "source": [
    "## prime numbers\n",
    "n=100\n",
    "for i in range(1,n+1):\n",
    "    for j in range(2,i):\n",
    "        if i%j==0:\n",
    "            break\n",
    "    else:\n",
    "        print(i)\n",
    "        "
   ]
  },
  {
   "cell_type": "code",
   "execution_count": null,
   "id": "b3fdb2db",
   "metadata": {},
   "outputs": [],
   "source": []
  }
 ],
 "metadata": {
  "kernelspec": {
   "display_name": "Python 3",
   "language": "python",
   "name": "python3"
  },
  "language_info": {
   "codemirror_mode": {
    "name": "ipython",
    "version": 3
   },
   "file_extension": ".py",
   "mimetype": "text/x-python",
   "name": "python",
   "nbconvert_exporter": "python",
   "pygments_lexer": "ipython3",
   "version": "3.12.0"
  }
 },
 "nbformat": 4,
 "nbformat_minor": 5
}
