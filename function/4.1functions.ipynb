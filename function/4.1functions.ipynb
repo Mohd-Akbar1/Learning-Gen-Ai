{
 "cells": [
  {
   "cell_type": "code",
   "execution_count": null,
   "id": "dc926c08",
   "metadata": {},
   "outputs": [],
   "source": [
    "##function is a block of code that perform a specific task\n",
    "\n",
    "def function(parameters):\n",
    "    \"\"\"doc string\"\"\"\n",
    "    ## function body\n",
    "    return "
   ]
  },
  {
   "cell_type": "code",
   "execution_count": 4,
   "id": "68a699e2",
   "metadata": {},
   "outputs": [
    {
     "data": {
      "text/plain": [
       "'odd'"
      ]
     },
     "execution_count": 4,
     "metadata": {},
     "output_type": "execute_result"
    }
   ],
   "source": [
    "def EvenOrOdd(num):\n",
    "    \"\"\"this function finds even or odd\"\"\"\n",
    "    if num%2==0:\n",
    "        return \"even\"\n",
    "    return \"odd\"\n",
    "EvenOrOdd(23)\n"
   ]
  },
  {
   "cell_type": "code",
   "execution_count": 6,
   "id": "1140a7cf",
   "metadata": {},
   "outputs": [
    {
     "data": {
      "text/plain": [
       "'even'"
      ]
     },
     "execution_count": 6,
     "metadata": {},
     "output_type": "execute_result"
    }
   ],
   "source": [
    "EvenOrOdd(590)"
   ]
  },
  {
   "cell_type": "code",
   "execution_count": 9,
   "id": "5e91cffe",
   "metadata": {},
   "outputs": [],
   "source": [
    "def summer(a,b):\n",
    "    return a+b"
   ]
  },
  {
   "cell_type": "code",
   "execution_count": 11,
   "id": "7dcf9e2c",
   "metadata": {},
   "outputs": [
    {
     "data": {
      "text/plain": [
       "6"
      ]
     },
     "execution_count": 11,
     "metadata": {},
     "output_type": "execute_result"
    }
   ],
   "source": [
    "summer(2,4)"
   ]
  },
  {
   "cell_type": "code",
   "execution_count": 16,
   "id": "f1a1d7ac",
   "metadata": {},
   "outputs": [
    {
     "name": "stdout",
     "output_type": "stream",
     "text": [
      "hello,John Doe welcome to python\n"
     ]
    }
   ],
   "source": [
    "## default parameters\n",
    "\n",
    "def greet(name=\"John Doe\"):\n",
    "    print(f\"hello,{name} welcome to python\")\n",
    "\n",
    "greet()"
   ]
  },
  {
   "cell_type": "code",
   "execution_count": 18,
   "id": "dd904504",
   "metadata": {},
   "outputs": [],
   "source": [
    "## variable length argument\n",
    "# positional and keyword arguments\n",
    "## having many many parameters\n",
    "## *anyName\n",
    "def numsx(*args):\n",
    "    for nums in args:\n",
    "        print(nums)\n",
    "\n",
    "\n"
   ]
  },
  {
   "cell_type": "code",
   "execution_count": 19,
   "id": "3789438e",
   "metadata": {},
   "outputs": [
    {
     "name": "stdout",
     "output_type": "stream",
     "text": [
      "1\n",
      "2\n",
      "3\n",
      "4\n",
      "True\n",
      "hello\n"
     ]
    }
   ],
   "source": [
    "numsx(1,2,3,4,True,\"hello\")  ## these parameters are positional arguments"
   ]
  },
  {
   "cell_type": "code",
   "execution_count": 25,
   "id": "0f5194d6",
   "metadata": {},
   "outputs": [],
   "source": [
    "## keywords arguments\n",
    "## all the arguments in a key value pair\n",
    "## access like dictionary\n",
    "def details(**kwargs):\n",
    "    for idx,val in kwargs.items():\n",
    "        print(f\"key is: {idx} and values are {val}\")\n",
    "    return\n"
   ]
  },
  {
   "cell_type": "code",
   "execution_count": 26,
   "id": "e7a338b7",
   "metadata": {},
   "outputs": [
    {
     "name": "stdout",
     "output_type": "stream",
     "text": [
      "key is: name and values are akbar\n",
      "key is: age and values are 22\n",
      "key is: role and values are Engineer\n"
     ]
    }
   ],
   "source": [
    "details(name=\"akbar\",age=\"22\",role=\"Engineer\")"
   ]
  },
  {
   "cell_type": "code",
   "execution_count": null,
   "id": "30cb0a6c",
   "metadata": {},
   "outputs": [
    {
     "name": "stdout",
     "output_type": "stream",
     "text": [
      "1\n",
      "2\n",
      "3\n",
      "4\n",
      "key is: name and values are akbar\n",
      "key is: age and values are 22\n",
      "key is: role and values are Engineer\n"
     ]
    }
   ],
   "source": [
    "## mixed\n",
    "## keyword arguments must be last kwargs\n",
    "def newdetails(*args,**kwargs):\n",
    "    for nums in args:\n",
    "        print(nums)\n",
    "        \n",
    "    for idx,val in kwargs.items():\n",
    "        print(f\"key is: {idx} and values are {val}\")\n",
    "    return\n",
    "\n",
    "newdetails(1,2,3,4,name=\"akbar\",age=\"22\",role=\"Engineer\")"
   ]
  },
  {
   "cell_type": "code",
   "execution_count": 29,
   "id": "f49dba95",
   "metadata": {},
   "outputs": [
    {
     "data": {
      "text/plain": [
       "(782, ': is 23 x 34')"
      ]
     },
     "execution_count": 29,
     "metadata": {},
     "output_type": "execute_result"
    }
   ],
   "source": [
    "## return statement\n",
    "def mul(x,b):\n",
    "    return x*b,(f\": is {x} x {b}\")\n",
    "mul(23,34)"
   ]
  },
  {
   "cell_type": "code",
   "execution_count": 35,
   "id": "a5207b57",
   "metadata": {},
   "outputs": [
    {
     "data": {
      "text/plain": [
       "93.2"
      ]
     },
     "execution_count": 35,
     "metadata": {},
     "output_type": "execute_result"
    }
   ],
   "source": [
    "## temeprature coversion\n",
    "\n",
    "def temp(temp,unit):\n",
    "    \"\"\"this functions converts temperature between celcius and farenhite\"\"\"\n",
    "    if unit=='c':\n",
    "        return temp*9/5 +32  ## c to f\n",
    "    elif unit=='f':\n",
    "        return (temp-32)*5/9  ## f to c\n",
    "    else:\n",
    "        return None\n",
    "temp(23,'x')\n",
    "temp(34,'c')\n",
    " "
   ]
  },
  {
   "cell_type": "code",
   "execution_count": 42,
   "id": "830e11ae",
   "metadata": {},
   "outputs": [
    {
     "data": {
      "text/plain": [
       "True"
      ]
     },
     "execution_count": 42,
     "metadata": {},
     "output_type": "execute_result"
    }
   ],
   "source": [
    "## password strength checker\n",
    "\n",
    "def passowrd(passw):\n",
    "    if len(passw)<8:\n",
    "        return False\n",
    "    if not any(char.isdigit() for char in passw):\n",
    "        return False\n",
    "    \n",
    "    if not any(char.islower() for char in passw):\n",
    "        return False\n",
    "    if not any(char.isupper() for char in passw):\n",
    "        return False\n",
    "    if not any(char in \"@#\" for char in passw):\n",
    "        return False\n",
    "    return True\n",
    "\n",
    "passowrd('f@1rnBededede')"
   ]
  },
  {
   "cell_type": "code",
   "execution_count": 45,
   "id": "438821b6",
   "metadata": {},
   "outputs": [
    {
     "data": {
      "text/plain": [
       "False"
      ]
     },
     "execution_count": 45,
     "metadata": {},
     "output_type": "execute_result"
    }
   ],
   "source": [
    "## checkinng pallindrome\n",
    "def pallindrome(str):\n",
    "    return str==str[::-1]\n",
    "\n",
    "pallindrome('allah')"
   ]
  },
  {
   "cell_type": "code",
   "execution_count": 46,
   "id": "5b91989c",
   "metadata": {},
   "outputs": [
    {
     "data": {
      "text/plain": [
       "120"
      ]
     },
     "execution_count": 46,
     "metadata": {},
     "output_type": "execute_result"
    }
   ],
   "source": [
    "## recursion\n",
    "\n",
    "def fact(n):\n",
    "    if n==1:\n",
    "        return 1\n",
    "    else:\n",
    "        return n*fact(n-1)\n",
    "fact(5)"
   ]
  },
  {
   "cell_type": "code",
   "execution_count": 47,
   "id": "c13f7eca",
   "metadata": {},
   "outputs": [
    {
     "data": {
      "text/plain": [
       "{'hello': 1,\n",
       " 'there': 1,\n",
       " 'i': 1,\n",
       " 'am': 1,\n",
       " 'learing': 1,\n",
       " 'python': 1,\n",
       " 'for': 1,\n",
       " 'generative': 1,\n",
       " 'ai': 1}"
      ]
     },
     "execution_count": 47,
     "metadata": {},
     "output_type": "execute_result"
    }
   ],
   "source": [
    "def freqCounter(path):\n",
    "    words_count={}\n",
    "    with open(path,'r') as file:\n",
    "        for line in file:\n",
    "            words=line.split()\n",
    "            for word in words:\n",
    "                word=word.lower().strip()\n",
    "                words_count[word]=words_count.get(word,0)+1\n",
    "    return words_count\n",
    "path=\"sample.txt\"\n",
    "freqCounter(path)"
   ]
  },
  {
   "cell_type": "code",
   "execution_count": 2,
   "id": "16b1a67e",
   "metadata": {},
   "outputs": [
    {
     "data": {
      "text/plain": [
       "4"
      ]
     },
     "execution_count": 2,
     "metadata": {},
     "output_type": "execute_result"
    }
   ],
   "source": [
    "## digitalsum\n",
    "def unitSums(num):\n",
    "    if num<10:\n",
    "       return num\n",
    "    else:\n",
    "        sum=0\n",
    "        for nums in str(num):\n",
    "            sum+=int(nums)\n",
    "    if sum>9:\n",
    "        \n",
    "        return unitSums(sum)\n",
    "    return sum\n",
    "\n",
    "      \n",
    "\n",
    "unitSums(139)"
   ]
  },
  {
   "cell_type": "code",
   "execution_count": 24,
   "id": "622ad57c",
   "metadata": {},
   "outputs": [
    {
     "data": {
      "text/plain": [
       "22"
      ]
     },
     "execution_count": 24,
     "metadata": {},
     "output_type": "execute_result"
    }
   ],
   "source": [
    "## sum of array\n",
    "def sumOfArray(arr):\n",
    "    sum=0\n",
    "    for ele in arr:\n",
    "        sum+=ele\n",
    "    return sum\n",
    "sumOfArray([1,2,4,5,7,3])"
   ]
  },
  {
   "cell_type": "code",
   "execution_count": 33,
   "id": "dd19c483",
   "metadata": {},
   "outputs": [
    {
     "data": {
      "text/plain": [
       "[6, 5, 4, 3, 2, 1]"
      ]
     },
     "execution_count": 33,
     "metadata": {},
     "output_type": "execute_result"
    }
   ],
   "source": [
    "## reverse the array\n",
    "def reverseArray(arr):\n",
    "    newArr=[]\n",
    "    for i in range(len(arr)-1,-1,-1):\n",
    "        newArr.append(arr[i])\n",
    "    return newArr\n",
    "reverseArray([1,2,3,4,5,6])"
   ]
  },
  {
   "cell_type": "code",
   "execution_count": 5,
   "id": "3bba861f",
   "metadata": {},
   "outputs": [
    {
     "data": {
      "text/plain": [
       "[2, 1, 4, 3, 6, 5, 8, 7]"
      ]
     },
     "execution_count": 5,
     "metadata": {},
     "output_type": "execute_result"
    }
   ],
   "source": [
    "## swap alternate in array\n",
    "def swapper(arr):\n",
    "    l=len(arr)-1\n",
    "    for i in range(0,l,2):\n",
    "        arr[i],arr[i+1]=arr[i+1],arr[i]\n",
    "    return arr\n",
    "swapper([1,2,3,4,5,6,7,8])\n",
    "\n",
    "\n"
   ]
  },
  {
   "cell_type": "code",
   "execution_count": 8,
   "id": "f9388875",
   "metadata": {},
   "outputs": [
    {
     "data": {
      "text/plain": [
       "[0, 0, 0, 0, 1, 1, 1, 1]"
      ]
     },
     "execution_count": 8,
     "metadata": {},
     "output_type": "execute_result"
    }
   ],
   "source": [
    "## sorting 0 and 1\n",
    "def sort01(arr):\n",
    "    l=len(arr)\n",
    "    for ele in arr:\n",
    "        if ele==1:\n",
    "            arr.remove(ele)\n",
    "            arr.append(ele)\n",
    "    return arr\n",
    "sort01([1,1,0,1,0,1,0,0])"
   ]
  },
  {
   "cell_type": "code",
   "execution_count": 2,
   "id": "88d9f5e7",
   "metadata": {},
   "outputs": [
    {
     "name": "stdout",
     "output_type": "stream",
     "text": [
      "   February 2000\n",
      "Mo Tu We Th Fr Sa Su\n",
      "    1  2  3  4  5  6\n",
      " 7  8  9 10 11 12 13\n",
      "14 15 16 17 18 19 20\n",
      "21 22 23 24 25 26 27\n",
      "28 29\n",
      "\n"
     ]
    }
   ],
   "source": [
    "import calendar\n",
    "year=int(input('Enetr the year'))\n",
    "month=int(input(\"Enter the month\"))\n",
    "cal=calendar.month(year,month)\n",
    "print(cal)\n",
    "    \n",
    "    \n",
    "   "
   ]
  },
  {
   "cell_type": "code",
   "execution_count": 4,
   "id": "e6eefb08",
   "metadata": {},
   "outputs": [
    {
     "name": "stdout",
     "output_type": "stream",
     "text": [
      "Now a is:11 and b is 54\n"
     ]
    }
   ],
   "source": [
    "#swapp two varibale\n",
    "a=int(input(\"Enter first number\"))\n",
    "b=int(input(\"Enter second number\"))\n",
    "temp=a\n",
    "a=b\n",
    "b=temp\n",
    "print(f\"Now a is:{a} and b is {b}\")\n"
   ]
  },
  {
   "cell_type": "code",
   "execution_count": 6,
   "id": "3aec9228",
   "metadata": {},
   "outputs": [
    {
     "name": "stdout",
     "output_type": "stream",
     "text": [
      "solution is -3.25 and 2.75\n"
     ]
    }
   ],
   "source": [
    "## solving quadratic equation\n",
    "a=int(input(\"Enter first coefficeint a number\"))\n",
    "b=int(input(\"Enter second coffiecient b number\"))\n",
    "c=int(input(\"Enter third coefficient c number\"))\n",
    "\n",
    "if(a==0):\n",
    "    print( f\"a must not be zero\")\n",
    "result1=(-b+(b**2-4*a*c))/(2*a)\n",
    "result2=(-b-(b**2-4*a*c))/(2*a)\n",
    "\n",
    "print(f\"solution is {result1} and {result2}\")"
   ]
  },
  {
   "cell_type": "code",
   "execution_count": 19,
   "id": "875a7d65",
   "metadata": {},
   "outputs": [
    {
     "data": {
      "text/plain": [
       "'34 is not a prime'"
      ]
     },
     "execution_count": 19,
     "metadata": {},
     "output_type": "execute_result"
    }
   ],
   "source": [
    "## check is Prime or not\n",
    "num=int(input('enter a number to check prime or not'))\n",
    "\n",
    "def IsPrime(num):\n",
    "    if num ==0 or num<0:\n",
    "        return f\"Enter a positive number\"\n",
    "    if num==1 :\n",
    "        return f\"{num} is not a prime number\"\n",
    "    if num==2:\n",
    "        return f\"{num} is samllest prime number\"\n",
    "\n",
    "    for i in range(2,num//2+1):\n",
    "        if num%i==0:\n",
    "            return f\"{num} is not a prime\"\n",
    "    return f\"{num} is  a prime number\"   \n",
    "\n",
    "IsPrime(num) "
   ]
  },
  {
   "cell_type": "code",
   "execution_count": null,
   "id": "2f7fb5f9",
   "metadata": {},
   "outputs": [
    {
     "data": {
      "text/plain": [
       "'lcm is zero'"
      ]
     },
     "execution_count": 30,
     "metadata": {},
     "output_type": "execute_result"
    }
   ],
   "source": []
  },
  {
   "cell_type": "code",
   "execution_count": null,
   "id": "dafcc9c2",
   "metadata": {},
   "outputs": [],
   "source": []
  }
 ],
 "metadata": {
  "kernelspec": {
   "display_name": "Python 3",
   "language": "python",
   "name": "python3"
  },
  "language_info": {
   "codemirror_mode": {
    "name": "ipython",
    "version": 3
   },
   "file_extension": ".py",
   "mimetype": "text/x-python",
   "name": "python",
   "nbconvert_exporter": "python",
   "pygments_lexer": "ipython3",
   "version": "3.12.0"
  }
 },
 "nbformat": 4,
 "nbformat_minor": 5
}
