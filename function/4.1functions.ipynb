{
 "cells": [
  {
   "cell_type": "code",
   "execution_count": null,
   "id": "dc926c08",
   "metadata": {},
   "outputs": [],
   "source": [
    "##function is a block of code that perform a specific task\n",
    "\n",
    "def function(parameters):\n",
    "    \"\"\"doc string\"\"\"\n",
    "    ## function body\n",
    "    return "
   ]
  },
  {
   "cell_type": "code",
   "execution_count": 4,
   "id": "68a699e2",
   "metadata": {},
   "outputs": [
    {
     "data": {
      "text/plain": [
       "'odd'"
      ]
     },
     "execution_count": 4,
     "metadata": {},
     "output_type": "execute_result"
    }
   ],
   "source": [
    "def EvenOrOdd(num):\n",
    "    \"\"\"this function finds even or odd\"\"\"\n",
    "    if num%2==0:\n",
    "        return \"even\"\n",
    "    return \"odd\"\n",
    "EvenOrOdd(23)\n"
   ]
  },
  {
   "cell_type": "code",
   "execution_count": 6,
   "id": "1140a7cf",
   "metadata": {},
   "outputs": [
    {
     "data": {
      "text/plain": [
       "'even'"
      ]
     },
     "execution_count": 6,
     "metadata": {},
     "output_type": "execute_result"
    }
   ],
   "source": [
    "EvenOrOdd(590)"
   ]
  },
  {
   "cell_type": "code",
   "execution_count": 9,
   "id": "5e91cffe",
   "metadata": {},
   "outputs": [],
   "source": [
    "def summer(a,b):\n",
    "    return a+b"
   ]
  },
  {
   "cell_type": "code",
   "execution_count": 11,
   "id": "7dcf9e2c",
   "metadata": {},
   "outputs": [
    {
     "data": {
      "text/plain": [
       "6"
      ]
     },
     "execution_count": 11,
     "metadata": {},
     "output_type": "execute_result"
    }
   ],
   "source": [
    "summer(2,4)"
   ]
  },
  {
   "cell_type": "code",
   "execution_count": 16,
   "id": "f1a1d7ac",
   "metadata": {},
   "outputs": [
    {
     "name": "stdout",
     "output_type": "stream",
     "text": [
      "hello,John Doe welcome to python\n"
     ]
    }
   ],
   "source": [
    "## default parameters\n",
    "\n",
    "def greet(name=\"John Doe\"):\n",
    "    print(f\"hello,{name} welcome to python\")\n",
    "\n",
    "greet()"
   ]
  },
  {
   "cell_type": "code",
   "execution_count": 18,
   "id": "dd904504",
   "metadata": {},
   "outputs": [],
   "source": [
    "## variable length argument\n",
    "# positional and keyword arguments\n",
    "## having many many parameters\n",
    "## *anyName\n",
    "def numsx(*args):\n",
    "    for nums in args:\n",
    "        print(nums)\n",
    "\n",
    "\n"
   ]
  },
  {
   "cell_type": "code",
   "execution_count": 19,
   "id": "3789438e",
   "metadata": {},
   "outputs": [
    {
     "name": "stdout",
     "output_type": "stream",
     "text": [
      "1\n",
      "2\n",
      "3\n",
      "4\n",
      "True\n",
      "hello\n"
     ]
    }
   ],
   "source": [
    "numsx(1,2,3,4,True,\"hello\")  ## these parameters are positional arguments"
   ]
  },
  {
   "cell_type": "code",
   "execution_count": 25,
   "id": "0f5194d6",
   "metadata": {},
   "outputs": [],
   "source": [
    "## keywords arguments\n",
    "## all the arguments in a key value pair\n",
    "## access like dictionary\n",
    "def details(**kwargs):\n",
    "    for idx,val in kwargs.items():\n",
    "        print(f\"key is: {idx} and values are {val}\")\n",
    "    return\n"
   ]
  },
  {
   "cell_type": "code",
   "execution_count": 26,
   "id": "e7a338b7",
   "metadata": {},
   "outputs": [
    {
     "name": "stdout",
     "output_type": "stream",
     "text": [
      "key is: name and values are akbar\n",
      "key is: age and values are 22\n",
      "key is: role and values are Engineer\n"
     ]
    }
   ],
   "source": [
    "details(name=\"akbar\",age=\"22\",role=\"Engineer\")"
   ]
  },
  {
   "cell_type": "code",
   "execution_count": null,
   "id": "30cb0a6c",
   "metadata": {},
   "outputs": [
    {
     "name": "stdout",
     "output_type": "stream",
     "text": [
      "1\n",
      "2\n",
      "3\n",
      "4\n",
      "key is: name and values are akbar\n",
      "key is: age and values are 22\n",
      "key is: role and values are Engineer\n"
     ]
    }
   ],
   "source": [
    "## mixed\n",
    "## keyword arguments must be last kwargs\n",
    "def newdetails(*args,**kwargs):\n",
    "    for nums in args:\n",
    "        print(nums)\n",
    "        \n",
    "    for idx,val in kwargs.items():\n",
    "        print(f\"key is: {idx} and values are {val}\")\n",
    "    return\n",
    "\n",
    "newdetails(1,2,3,4,name=\"akbar\",age=\"22\",role=\"Engineer\")"
   ]
  },
  {
   "cell_type": "code",
   "execution_count": 29,
   "id": "f49dba95",
   "metadata": {},
   "outputs": [
    {
     "data": {
      "text/plain": [
       "(782, ': is 23 x 34')"
      ]
     },
     "execution_count": 29,
     "metadata": {},
     "output_type": "execute_result"
    }
   ],
   "source": [
    "## return statement\n",
    "def mul(x,b):\n",
    "    return x*b,(f\": is {x} x {b}\")\n",
    "mul(23,34)"
   ]
  },
  {
   "cell_type": "code",
   "execution_count": null,
   "id": "a5207b57",
   "metadata": {},
   "outputs": [],
   "source": []
  }
 ],
 "metadata": {
  "kernelspec": {
   "display_name": "Python 3",
   "language": "python",
   "name": "python3"
  },
  "language_info": {
   "codemirror_mode": {
    "name": "ipython",
    "version": 3
   },
   "file_extension": ".py",
   "mimetype": "text/x-python",
   "name": "python",
   "nbconvert_exporter": "python",
   "pygments_lexer": "ipython3",
   "version": "3.12.0"
  }
 },
 "nbformat": 4,
 "nbformat_minor": 5
}
