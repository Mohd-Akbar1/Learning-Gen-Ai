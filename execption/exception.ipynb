{
 "cells": [
  {
   "cell_type": "code",
   "execution_count": 2,
   "id": "4cb62d6a",
   "metadata": {},
   "outputs": [
    {
     "name": "stdout",
     "output_type": "stream",
     "text": [
      "varibale is not defined\n"
     ]
    }
   ],
   "source": [
    "## expectional handling\n",
    "try:\n",
    "    a=b \n",
    "except:\n",
    "    print('varibale is not defined')"
   ]
  },
  {
   "cell_type": "code",
   "execution_count": 3,
   "id": "5fd27caf",
   "metadata": {},
   "outputs": [
    {
     "name": "stdout",
     "output_type": "stream",
     "text": [
      "name 'b' is not defined\n"
     ]
    }
   ],
   "source": [
    "## expectional handling\n",
    "try:\n",
    "    a=b \n",
    "except NameError as err:\n",
    "    print(err)"
   ]
  },
  {
   "cell_type": "code",
   "execution_count": 4,
   "id": "99782b8d",
   "metadata": {},
   "outputs": [
    {
     "name": "stdout",
     "output_type": "stream",
     "text": [
      "please enetr the number greater than 1\n"
     ]
    }
   ],
   "source": [
    "try:\n",
    "    result=10/0\n",
    "except ZeroDivisionError as err:\n",
    "    print('please enetr the number greater than 1')\n"
   ]
  },
  {
   "cell_type": "code",
   "execution_count": 8,
   "id": "70ec0357",
   "metadata": {},
   "outputs": [
    {
     "name": "stdout",
     "output_type": "stream",
     "text": [
      "name 'a' is not defined\n"
     ]
    }
   ],
   "source": [
    "try:\n",
    "    result=10/1\n",
    "    a==b\n",
    "except ZeroDivisionError as err:\n",
    "    print('please enetr the number greater than 1')\n",
    "except Exception as err:\n",
    "    print(err)\n"
   ]
  },
  {
   "cell_type": "code",
   "execution_count": 13,
   "id": "5631320b",
   "metadata": {},
   "outputs": [],
   "source": [
    "try:\n",
    "    num=int(input(('enter a number')))\n",
    "    res=10/num\n",
    "except ValueError :\n",
    "    print('this is not a valid number')\n",
    "except ZeroDivisionError:\n",
    "    print('number must be greater than 1')\n",
    "\n",
    "except Exception as ex:\n",
    "    print(ex)\n"
   ]
  },
  {
   "cell_type": "code",
   "execution_count": 14,
   "id": "9958e349",
   "metadata": {},
   "outputs": [
    {
     "name": "stdout",
     "output_type": "stream",
     "text": [
      "the result is 10.0\n"
     ]
    }
   ],
   "source": [
    "## try,except,else block\n",
    "\n",
    "try:\n",
    "    num=int(input(('enter a number')))\n",
    "    res=10/num\n",
    "except ValueError :\n",
    "    print('this is not a valid number')\n",
    "except ZeroDivisionError:\n",
    "    print('number must be greater than 1')\n",
    "\n",
    "except Exception as ex:\n",
    "    print(ex)\n",
    "else:\n",
    "    print(f\"the result is {result}\")\n"
   ]
  },
  {
   "cell_type": "code",
   "execution_count": 15,
   "id": "18660064",
   "metadata": {},
   "outputs": [
    {
     "name": "stdout",
     "output_type": "stream",
     "text": [
      "number must be greater than 1\n",
      "execution completed\n"
     ]
    }
   ],
   "source": [
    "## try,except,else and finally\n",
    "try:\n",
    "    num=int(input(('enter a number')))\n",
    "    res=10/num\n",
    "except ValueError :\n",
    "    print('this is not a valid number')\n",
    "except ZeroDivisionError:\n",
    "    print('number must be greater than 1')\n",
    "\n",
    "except Exception as ex:\n",
    "    print(ex)\n",
    "else:\n",
    "    print(f\"the result is {result}\")\n",
    "\n",
    "finally:\n",
    "    print('execution completed')\n"
   ]
  },
  {
   "cell_type": "code",
   "execution_count": 21,
   "id": "9cfbc7ee",
   "metadata": {},
   "outputs": [
    {
     "name": "stdout",
     "output_type": "stream",
     "text": [
      "\n",
      "name 'a' is not defined\n"
     ]
    }
   ],
   "source": [
    "## file handling and exceptional handling\n",
    "try:\n",
    "    file=open('example.txt','r')\n",
    "    content=file.read()\n",
    "    print(content)\n",
    "    a==b\n",
    "except FileNotFoundError:\n",
    "    print('file not found')\n",
    "\n",
    "except Exception as err:\n",
    "    print(err) \n",
    "finally:\n",
    "    if 'file' in locals() or not file.closed():\n",
    "        file.close()\n",
    "\n"
   ]
  },
  {
   "cell_type": "code",
   "execution_count": null,
   "id": "c124a453",
   "metadata": {},
   "outputs": [],
   "source": []
  }
 ],
 "metadata": {
  "kernelspec": {
   "display_name": "Python 3",
   "language": "python",
   "name": "python3"
  },
  "language_info": {
   "codemirror_mode": {
    "name": "ipython",
    "version": 3
   },
   "file_extension": ".py",
   "mimetype": "text/x-python",
   "name": "python",
   "nbconvert_exporter": "python",
   "pygments_lexer": "ipython3",
   "version": "3.12.0"
  }
 },
 "nbformat": 4,
 "nbformat_minor": 5
}
