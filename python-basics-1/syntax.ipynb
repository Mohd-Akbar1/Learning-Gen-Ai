{
 "cells": [
  {
   "cell_type": "markdown",
   "id": "ccaf0225",
   "metadata": {},
   "source": [
    "## basic syntax rules in python\n",
    "##  case sensitivity python is case sensitive\n"
   ]
  },
  {
   "cell_type": "code",
   "execution_count": 1,
   "id": "20e06935",
   "metadata": {},
   "outputs": [
    {
     "name": "stdout",
     "output_type": "stream",
     "text": [
      "akbar\n",
      "mohd\n"
     ]
    }
   ],
   "source": [
    "name=\"akbar\"\n",
    "Name=\"mohd\"\n",
    "print(name)\n",
    "print(Name)"
   ]
  },
  {
   "cell_type": "code",
   "execution_count": null,
   "id": "dfe280d6",
   "metadata": {},
   "outputs": [],
   "source": [
    "## Indentation\n"
   ]
  },
  {
   "cell_type": "code",
   "execution_count": null,
   "id": "00296541",
   "metadata": {},
   "outputs": [],
   "source": [
    "'''\n",
    "welcome to learnig\n",
    "''''\n",
    "''' dosent work in jupyter notebook"
   ]
  },
  {
   "cell_type": "markdown",
   "id": "a91af9ed",
   "metadata": {},
   "source": [
    "Line continuation\n"
   ]
  },
  {
   "cell_type": "code",
   "execution_count": 2,
   "id": "bc999c5e",
   "metadata": {},
   "outputs": [
    {
     "name": "stdout",
     "output_type": "stream",
     "text": [
      "16\n"
     ]
    }
   ],
   "source": [
    "total=1+2+4+\\\n",
    "4+5\n",
    "print(total)"
   ]
  },
  {
   "cell_type": "markdown",
   "id": "c529aed3",
   "metadata": {},
   "source": [
    "multiple statements in a single line\n"
   ]
  },
  {
   "cell_type": "code",
   "execution_count": 3,
   "id": "5c0ab4c2",
   "metadata": {},
   "outputs": [
    {
     "name": "stdout",
     "output_type": "stream",
     "text": [
      "9\n"
     ]
    }
   ],
   "source": [
    "x=3;y=6;c=x+y\n",
    "print(c)"
   ]
  },
  {
   "cell_type": "code",
   "execution_count": null,
   "id": "a3cabe4c",
   "metadata": {},
   "outputs": [],
   "source": []
  },
  {
   "cell_type": "markdown",
   "id": "444231f5",
   "metadata": {},
   "source": [
    "semantics in python"
   ]
  },
  {
   "cell_type": "code",
   "execution_count": null,
   "id": "02522155",
   "metadata": {},
   "outputs": [],
   "source": [
    "age=45 ## kernel will understand it during the run time\n",
    "name=\"akbar\""
   ]
  },
  {
   "cell_type": "code",
   "execution_count": null,
   "id": "88f7c8d8",
   "metadata": {},
   "outputs": [
    {
     "data": {
      "text/plain": [
       "str"
      ]
     },
     "execution_count": 8,
     "metadata": {},
     "output_type": "execute_result"
    }
   ],
   "source": [
    "## type inference\n",
    "type(name)\n"
   ]
  },
  {
   "cell_type": "code",
   "execution_count": 9,
   "id": "766d722b",
   "metadata": {},
   "outputs": [
    {
     "name": "stdout",
     "output_type": "stream",
     "text": [
      "<class 'int'>\n",
      "<class 'str'>\n"
     ]
    }
   ],
   "source": [
    "## type inferences\n",
    "variable=32\n",
    "print(type(variable))\n",
    "variable='akbar'\n",
    "print(type(variable))"
   ]
  },
  {
   "cell_type": "code",
   "execution_count": null,
   "id": "03a977f3",
   "metadata": {},
   "outputs": [],
   "source": []
  }
 ],
 "metadata": {
  "kernelspec": {
   "display_name": "Python 3",
   "language": "python",
   "name": "python3"
  },
  "language_info": {
   "codemirror_mode": {
    "name": "ipython",
    "version": 3
   },
   "file_extension": ".py",
   "mimetype": "text/x-python",
   "name": "python",
   "nbconvert_exporter": "python",
   "pygments_lexer": "ipython3",
   "version": "3.12.0"
  }
 },
 "nbformat": 4,
 "nbformat_minor": 5
}
