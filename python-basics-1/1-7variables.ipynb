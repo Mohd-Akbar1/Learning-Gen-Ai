{
 "cells": [
  {
   "cell_type": "markdown",
   "id": "e89e0109",
   "metadata": {},
   "source": [
    "declaring and assigning varibales"
   ]
  },
  {
   "cell_type": "code",
   "execution_count": 1,
   "id": "ea0ea3cc",
   "metadata": {},
   "outputs": [
    {
     "name": "stdout",
     "output_type": "stream",
     "text": [
      "12 akbar True\n"
     ]
    }
   ],
   "source": [
    "age=12\n",
    "name=\"akbar\"\n",
    "isStudent=True\n",
    "\n",
    "print(age,name,isStudent)\n"
   ]
  },
  {
   "cell_type": "markdown",
   "id": "387c2a81",
   "metadata": {},
   "source": [
    "naming convention\n"
   ]
  },
  {
   "cell_type": "markdown",
   "id": "07735ca6",
   "metadata": {},
   "source": [
    "varibale name can be start from underscore or letter and containe letters number and underscore\n",
    "it is case sensitive"
   ]
  },
  {
   "cell_type": "code",
   "execution_count": 3,
   "id": "d283d47f",
   "metadata": {},
   "outputs": [
    {
     "ename": "SyntaxError",
     "evalue": "invalid decimal literal (3687564567.py, line 2)",
     "output_type": "error",
     "traceback": [
      "  \u001b[36mCell\u001b[39m\u001b[36m \u001b[39m\u001b[32mIn[3]\u001b[39m\u001b[32m, line 2\u001b[39m\n\u001b[31m    \u001b[39m\u001b[31m2age=34\u001b[39m\n    ^\n\u001b[31mSyntaxError\u001b[39m\u001b[31m:\u001b[39m invalid decimal literal\n"
     ]
    }
   ],
   "source": [
    "first_name=\"akbar\"\n",
    "2age=34\n",
    " \n",
    " #invalid "
   ]
  },
  {
   "cell_type": "markdown",
   "id": "8c005d02",
   "metadata": {},
   "source": []
  },
  {
   "cell_type": "code",
   "execution_count": 5,
   "id": "48eece6b",
   "metadata": {},
   "outputs": [
    {
     "data": {
      "text/plain": [
       "False"
      ]
     },
     "execution_count": 5,
     "metadata": {},
     "output_type": "execute_result"
    }
   ],
   "source": [
    "name='Akbar'\n",
    "Name=\"mohd\"\n",
    "name==Name"
   ]
  },
  {
   "cell_type": "code",
   "execution_count": 6,
   "id": "2f1ae602",
   "metadata": {},
   "outputs": [],
   "source": [
    "## variable types"
   ]
  },
  {
   "cell_type": "code",
   "execution_count": 7,
   "id": "347d4e27",
   "metadata": {},
   "outputs": [],
   "source": [
    "## varibale types\n",
    "## python is dynamically typed ,types of varibales are determined during the run times\n",
    "\n",
    "ag4=33\n",
    "height=6.3\n",
    "name='akbar'\n",
    "isStudent=False\n"
   ]
  },
  {
   "cell_type": "code",
   "execution_count": 8,
   "id": "35e17679",
   "metadata": {},
   "outputs": [],
   "source": [
    "## type checking and conversion"
   ]
  },
  {
   "cell_type": "code",
   "execution_count": 9,
   "id": "ac6647eb",
   "metadata": {},
   "outputs": [
    {
     "data": {
      "text/plain": [
       "float"
      ]
     },
     "execution_count": 9,
     "metadata": {},
     "output_type": "execute_result"
    }
   ],
   "source": [
    "## type checking and conversion\n",
    "\n",
    "type(height)"
   ]
  },
  {
   "cell_type": "code",
   "execution_count": 12,
   "id": "a9deeb0a",
   "metadata": {},
   "outputs": [
    {
     "name": "stdout",
     "output_type": "stream",
     "text": [
      "6.3 <class 'str'>\n"
     ]
    }
   ],
   "source": [
    "## type conversion\n",
    "height_str=str(height)\n",
    "print(height_str,type(height_str))"
   ]
  },
  {
   "cell_type": "code",
   "execution_count": 15,
   "id": "d5acdb72",
   "metadata": {},
   "outputs": [
    {
     "name": "stdout",
     "output_type": "stream",
     "text": [
      "<class 'int'>\n"
     ]
    }
   ],
   "source": [
    "age='34'\n",
    "age2=int(age)\n",
    "print(type(age2))"
   ]
  },
  {
   "cell_type": "code",
   "execution_count": 17,
   "id": "689a19da",
   "metadata": {},
   "outputs": [
    {
     "name": "stdout",
     "output_type": "stream",
     "text": [
      "34 <class 'int'>\n",
      "test <class 'str'>\n"
     ]
    }
   ],
   "source": [
    "## Dynamic typing\n",
    "## python allows the types of a varibale to chnage as the program executes\n",
    "\n",
    "var=34\n",
    "print(var,type(var))\n",
    "\n",
    "var='test'\n",
    "print(var,type(var))\n"
   ]
  },
  {
   "cell_type": "code",
   "execution_count": 21,
   "id": "ddd0f68d",
   "metadata": {},
   "outputs": [
    {
     "name": "stdout",
     "output_type": "stream",
     "text": [
      "sum 12.0\n",
      "sub 8.0\n",
      "div 5.0\n",
      "mul 20.0\n",
      "rem 0.0\n"
     ]
    }
   ],
   "source": [
    "num1=float(input('Enter the  first number'))\n",
    "num2=float(input('Enter the second number'))\n",
    "\n",
    "sum=num1+num2\n",
    "sub=num1-num2\n",
    "div=num1/num2\n",
    "mul=num1*num2\n",
    "rem=num1%num2\n",
    "print('sum',sum)\n",
    "print('sub',sub)\n",
    "print('div',div)\n",
    "print('mul',mul)\n",
    "print('rem',rem)"
   ]
  },
  {
   "cell_type": "code",
   "execution_count": null,
   "id": "6bbb0930",
   "metadata": {},
   "outputs": [],
   "source": []
  }
 ],
 "metadata": {
  "kernelspec": {
   "display_name": "Python 3",
   "language": "python",
   "name": "python3"
  },
  "language_info": {
   "codemirror_mode": {
    "name": "ipython",
    "version": 3
   },
   "file_extension": ".py",
   "mimetype": "text/x-python",
   "name": "python",
   "nbconvert_exporter": "python",
   "pygments_lexer": "ipython3",
   "version": "3.12.0"
  }
 },
 "nbformat": 4,
 "nbformat_minor": 5
}
