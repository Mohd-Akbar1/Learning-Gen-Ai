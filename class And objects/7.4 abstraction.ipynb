{
 "cells": [
  {
   "cell_type": "markdown",
   "id": "b2e6f715",
   "metadata": {},
   "source": [
    "hiding the underlying complexing and showing only the necessary details"
   ]
  },
  {
   "cell_type": "code",
   "execution_count": 2,
   "id": "2c843ed9",
   "metadata": {},
   "outputs": [
    {
     "name": "stdout",
     "output_type": "stream",
     "text": [
      "Car engine started\n"
     ]
    }
   ],
   "source": [
    "from abc import ABC , abstractmethod\n",
    "\n",
    "## abstract base class\n",
    "class Vehicle(ABC):\n",
    "    def drive(self):\n",
    "        print('this vehicle is used for driving ')\n",
    "\n",
    "    @abstractmethod   #providing class so that modify according to your self  ## to use this class for child they have to write there own defination\n",
    "    def startengine(self):\n",
    "        pass\n",
    "\n",
    "class Car(Vehicle):\n",
    "    def startengine(self):\n",
    "        print('Car engine started')\n",
    "\n",
    "def operate_vehicle(vehicle):\n",
    "    vehicle.startengine()\n",
    "\n",
    "car=Car()\n",
    "operate_vehicle(car)"
   ]
  },
  {
   "cell_type": "code",
   "execution_count": null,
   "id": "a96ed683",
   "metadata": {},
   "outputs": [],
   "source": []
  }
 ],
 "metadata": {
  "kernelspec": {
   "display_name": "Python 3",
   "language": "python",
   "name": "python3"
  },
  "language_info": {
   "codemirror_mode": {
    "name": "ipython",
    "version": 3
   },
   "file_extension": ".py",
   "mimetype": "text/x-python",
   "name": "python",
   "nbconvert_exporter": "python",
   "pygments_lexer": "ipython3",
   "version": "3.12.0"
  }
 },
 "nbformat": 4,
 "nbformat_minor": 5
}
