{
 "cells": [
  {
   "cell_type": "markdown",
   "id": "eaab4f36",
   "metadata": {},
   "source": [
    "it provides a way to perform single action in a  differnet form\n"
   ]
  },
  {
   "cell_type": "code",
   "execution_count": 4,
   "id": "d0a8b0aa",
   "metadata": {},
   "outputs": [
    {
     "name": "stdout",
     "output_type": "stream",
     "text": [
      "barks !\n",
      "Meows !\n",
      "barks !\n",
      "None\n"
     ]
    }
   ],
   "source": [
    "## method overriding\n",
    "##method overriding alllows a child class to provide a specific implememtation of a methodthat is already defined in its aprent class\n",
    "\n",
    "##base class\n",
    "class Animal:\n",
    "    def speaks(self):\n",
    "        return \"sound of the animal\"\n",
    "##derived class 1\n",
    "class Dog(Animal):\n",
    "    def speaks(self):\n",
    "        return \"barks !\"\n",
    "\n",
    "class Cat(Animal):\n",
    "    def speaks(self):\n",
    "        return \"Meows !\"\n",
    "\n",
    "dog=Dog()\n",
    "print(dog.speaks())\n",
    "\n",
    "cat=Cat()\n",
    "print(cat.speaks())\n",
    "\n",
    "\n",
    "## function that demonstrates polymorphism\n",
    "def animal_speaks(animal):\n",
    "    print(animal.speaks())\n",
    "\n",
    "\n",
    "print(animal_speaks(dog))"
   ]
  },
  {
   "cell_type": "code",
   "execution_count": null,
   "id": "78c117f4",
   "metadata": {},
   "outputs": [],
   "source": []
  }
 ],
 "metadata": {
  "kernelspec": {
   "display_name": "Python 3",
   "language": "python",
   "name": "python3"
  },
  "language_info": {
   "codemirror_mode": {
    "name": "ipython",
    "version": 3
   },
   "file_extension": ".py",
   "mimetype": "text/x-python",
   "name": "python",
   "nbconvert_exporter": "python",
   "pygments_lexer": "ipython3",
   "version": "3.12.0"
  }
 },
 "nbformat": 4,
 "nbformat_minor": 5
}
