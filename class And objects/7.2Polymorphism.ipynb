{
 "cells": [
  {
   "cell_type": "markdown",
   "id": "eaab4f36",
   "metadata": {},
   "source": [
    "it provides a way to perform single action in a  differnet form\n"
   ]
  },
  {
   "cell_type": "code",
   "execution_count": 4,
   "id": "d0a8b0aa",
   "metadata": {},
   "outputs": [
    {
     "name": "stdout",
     "output_type": "stream",
     "text": [
      "barks !\n",
      "Meows !\n",
      "barks !\n",
      "None\n"
     ]
    }
   ],
   "source": [
    "## method overriding\n",
    "##method overriding alllows a child class to provide a specific implememtation of a methodthat is already defined in its aprent class\n",
    "\n",
    "##base class\n",
    "class Animal:\n",
    "    def speaks(self):\n",
    "        return \"sound of the animal\"\n",
    "##derived class 1\n",
    "class Dog(Animal):\n",
    "    def speaks(self):\n",
    "        return \"barks !\"\n",
    "\n",
    "class Cat(Animal):\n",
    "    def speaks(self):\n",
    "        return \"Meows !\"\n",
    "\n",
    "dog=Dog()\n",
    "print(dog.speaks())\n",
    "\n",
    "cat=Cat()\n",
    "print(cat.speaks())\n",
    "\n",
    "\n",
    "## function that demonstrates polymorphism\n",
    "def animal_speaks(animal):\n",
    "    print(animal.speaks())\n",
    "\n",
    "\n",
    "print(animal_speaks(dog))"
   ]
  },
  {
   "cell_type": "code",
   "execution_count": 2,
   "id": "78c117f4",
   "metadata": {},
   "outputs": [
    {
     "name": "stdout",
     "output_type": "stream",
     "text": [
      "the area is 12\n",
      "the area is 28.259999999999998\n"
     ]
    }
   ],
   "source": [
    "## polymorphism with functions and methods\n",
    "## base class\n",
    "class Shape:\n",
    "    def area(self):\n",
    "        return \"the area of the figure\"\n",
    "\n",
    "# derived class 1  \n",
    "class Rectangle(Shape):\n",
    "    def __init__(self,width,length):\n",
    "        self.length=length\n",
    "        self.width =width\n",
    "    def area(self):\n",
    "        return self.width*self.length\n",
    "    \n",
    "# derived class 2\n",
    "class Circle(Shape):\n",
    "    def __init__(self,radius):\n",
    "        self.radius=radius\n",
    "    def area(self):\n",
    "        return 3.14*self.radius*self.radius\n",
    "    \n",
    "##function that demonstrates polymorphism\n",
    "\n",
    "def shape_area(shape):\n",
    "    print(f\"the area is {shape.area()}\")\n",
    "\n",
    "rect=Rectangle(4,3)\n",
    "circle=Circle(3)\n",
    "\n",
    "shape_area(rect)\n",
    "shape_area(circle)"
   ]
  },
  {
   "cell_type": "code",
   "execution_count": null,
   "id": "98c5e2ed",
   "metadata": {},
   "outputs": [
    {
     "data": {
      "text/plain": [
       "'Motor cycle has started'"
      ]
     },
     "execution_count": 4,
     "metadata": {},
     "output_type": "execute_result"
    }
   ],
   "source": [
    "##polymorphism with abstract classes\n",
    "from abc import ABC,abstractmethod\n",
    "\n",
    "## define abstract class\n",
    "## it is like an empty class\n",
    "\n",
    "class Vehicle(ABC):\n",
    "    @abstractmethod\n",
    "    def start_engine(self):\n",
    "        return \"car engine started\"\n",
    "    \n",
    "## derived class 1\n",
    "class Car(Vehicle):\n",
    "    def start_engine(self):\n",
    "        return 'car engine started'\n",
    "    \n",
    "## derived class 2\n",
    "class MotorCycle(Vehicle):\n",
    "    def start_engine(self):\n",
    "        return 'Motor cycle has started'\n",
    "    \n",
    "## function which demonstartes polymorphism\n",
    "\n",
    "def start_vehicle(selfx):\n",
    "    return selfx.start_engine()\n",
    "## cretaing car annd object \n",
    "car=Car()\n",
    "motor=MotorCycle()\n",
    "start_vehicle(motor)"
   ]
  },
  {
   "cell_type": "code",
   "execution_count": null,
   "id": "8912b09e",
   "metadata": {},
   "outputs": [],
   "source": []
  }
 ],
 "metadata": {
  "kernelspec": {
   "display_name": "Python 3",
   "language": "python",
   "name": "python3"
  },
  "language_info": {
   "codemirror_mode": {
    "name": "ipython",
    "version": 3
   },
   "file_extension": ".py",
   "mimetype": "text/x-python",
   "name": "python",
   "nbconvert_exporter": "python",
   "pygments_lexer": "ipython3",
   "version": "3.12.0"
  }
 },
 "nbformat": 4,
 "nbformat_minor": 5
}
