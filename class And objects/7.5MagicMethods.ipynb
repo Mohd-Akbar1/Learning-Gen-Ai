{
 "cells": [
  {
   "cell_type": "markdown",
   "id": "e396eb9c",
   "metadata": {},
   "source": [
    "magic method or dunder method\n",
    "\n"
   ]
  },
  {
   "cell_type": "code",
   "execution_count": null,
   "id": "bb7284ec",
   "metadata": {},
   "outputs": [],
   "source": [
    "__init__\n",
    "__str__\n",
    "__repr__\n",
    "__len__\n",
    "__getitem__\n",
    "__setitem__"
   ]
  },
  {
   "cell_type": "code",
   "execution_count": 2,
   "id": "d4e99835",
   "metadata": {},
   "outputs": [
    {
     "name": "stdout",
     "output_type": "stream",
     "text": [
      "<__main__.Person object at 0x000002CD1760A000>\n"
     ]
    }
   ],
   "source": [
    "class Person:\n",
    "    def __init__(self,name):\n",
    "        self.name=name\n",
    "    \n",
    "person=Person('Akkbar')\n",
    "print(person)"
   ]
  },
  {
   "cell_type": "code",
   "execution_count": 4,
   "id": "28c1fb99",
   "metadata": {},
   "outputs": [
    {
     "name": "stdout",
     "output_type": "stream",
     "text": [
      " my name is Akkbar and my age is 3\n"
     ]
    }
   ],
   "source": [
    "class Person:\n",
    "    def __init__(self,name,age):\n",
    "        self.name=name\n",
    "        self.age=age\n",
    "\n",
    "    def __str__(self):\n",
    "        return f\" my name is {self.name} and my age is {self.age}\"\n",
    "    \n",
    "person=Person('Akkbar',3)\n",
    "print(person)"
   ]
  },
  {
   "cell_type": "markdown",
   "id": "c744f0d9",
   "metadata": {},
   "source": [
    "Operators Overloading\n"
   ]
  },
  {
   "cell_type": "code",
   "execution_count": null,
   "id": "02c4bd01",
   "metadata": {},
   "outputs": [],
   "source": []
  }
 ],
 "metadata": {
  "kernelspec": {
   "display_name": "Python 3",
   "language": "python",
   "name": "python3"
  },
  "language_info": {
   "codemirror_mode": {
    "name": "ipython",
    "version": 3
   },
   "file_extension": ".py",
   "mimetype": "text/x-python",
   "name": "python",
   "nbconvert_exporter": "python",
   "pygments_lexer": "ipython3",
   "version": "3.12.0"
  }
 },
 "nbformat": 4,
 "nbformat_minor": 5
}
