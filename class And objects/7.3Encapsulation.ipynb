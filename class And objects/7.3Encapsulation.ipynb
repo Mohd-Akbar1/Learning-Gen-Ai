{
 "cells": [
  {
   "cell_type": "markdown",
   "id": "31cf4d23",
   "metadata": {},
   "source": [
    "Encapsulation is the concept of wrapping data and methods together as a single unit.it restricts some of the data access to provide restrictions\n"
   ]
  },
  {
   "cell_type": "code",
   "execution_count": null,
   "id": "8bad438e",
   "metadata": {},
   "outputs": [],
   "source": [
    "## encapsulation with getter and setter method\n",
    "## public private and protected varibales or acccess modifiers\n",
    "\n",
    "class Person:\n",
    "    def __init__(self,name,age):\n",
    "        self.age=age    ## public varibales\n",
    "        self.name=name  ## public varibales\n",
    "\n",
    "person=Person('akbar',23)\n"
   ]
  },
  {
   "cell_type": "code",
   "execution_count": 3,
   "id": "322af526",
   "metadata": {},
   "outputs": [
    {
     "data": {
      "text/plain": [
       "['__class__',\n",
       " '__delattr__',\n",
       " '__dict__',\n",
       " '__dir__',\n",
       " '__doc__',\n",
       " '__eq__',\n",
       " '__format__',\n",
       " '__ge__',\n",
       " '__getattribute__',\n",
       " '__getstate__',\n",
       " '__gt__',\n",
       " '__hash__',\n",
       " '__init__',\n",
       " '__init_subclass__',\n",
       " '__le__',\n",
       " '__lt__',\n",
       " '__module__',\n",
       " '__ne__',\n",
       " '__new__',\n",
       " '__reduce__',\n",
       " '__reduce_ex__',\n",
       " '__repr__',\n",
       " '__setattr__',\n",
       " '__sizeof__',\n",
       " '__str__',\n",
       " '__subclasshook__',\n",
       " '__weakref__',\n",
       " 'age',\n",
       " 'name']"
      ]
     },
     "execution_count": 3,
     "metadata": {},
     "output_type": "execute_result"
    }
   ],
   "source": [
    "dir(person)"
   ]
  },
  {
   "cell_type": "code",
   "execution_count": 10,
   "id": "24cca195",
   "metadata": {},
   "outputs": [],
   "source": [
    "## private\n",
    "\n",
    "\n",
    "class Person:\n",
    "    def __init__(self,name,age,gender):\n",
    "        self.__age=age    ## private varibales\n",
    "        self.__name=name  ## private varibales\n",
    "        self.gender=gender\n",
    "\n",
    "person1=Person('ballu',73,\"M\")\n"
   ]
  },
  {
   "cell_type": "code",
   "execution_count": 11,
   "id": "907cb9b6",
   "metadata": {},
   "outputs": [
    {
     "data": {
      "text/plain": [
       "['_Person__age',\n",
       " '_Person__name',\n",
       " '__class__',\n",
       " '__delattr__',\n",
       " '__dict__',\n",
       " '__dir__',\n",
       " '__doc__',\n",
       " '__eq__',\n",
       " '__format__',\n",
       " '__ge__',\n",
       " '__getattribute__',\n",
       " '__getstate__',\n",
       " '__gt__',\n",
       " '__hash__',\n",
       " '__init__',\n",
       " '__init_subclass__',\n",
       " '__le__',\n",
       " '__lt__',\n",
       " '__module__',\n",
       " '__ne__',\n",
       " '__new__',\n",
       " '__reduce__',\n",
       " '__reduce_ex__',\n",
       " '__repr__',\n",
       " '__setattr__',\n",
       " '__sizeof__',\n",
       " '__str__',\n",
       " '__subclasshook__',\n",
       " '__weakref__',\n",
       " 'gender']"
      ]
     },
     "execution_count": 11,
     "metadata": {},
     "output_type": "execute_result"
    }
   ],
   "source": [
    "dir(person1)"
   ]
  },
  {
   "cell_type": "code",
   "execution_count": 17,
   "id": "19596f7c",
   "metadata": {},
   "outputs": [
    {
     "data": {
      "text/plain": [
       "'Mohd'"
      ]
     },
     "execution_count": 17,
     "metadata": {},
     "output_type": "execute_result"
    }
   ],
   "source": [
    "## private varibales cannot be accessed outside the class\n",
    "class Person:\n",
    "    def __init__(self,name,age,gender):\n",
    "        self.__age=age    ## private varibales\n",
    "        self.__name=name  ## private varibales\n",
    "        self.gender=gender\n",
    "\n",
    "def get_data(person):\n",
    "    return person._Person__name\n",
    "\n",
    "pers=Person('Mohd',45,\"M\")\n",
    "get_data(pers)"
   ]
  },
  {
   "cell_type": "code",
   "execution_count": 22,
   "id": "d4d60b87",
   "metadata": {},
   "outputs": [
    {
     "ename": "AttributeError",
     "evalue": "'Employees' object has no attribute '_name'",
     "output_type": "error",
     "traceback": [
      "\u001b[31m---------------------------------------------------------------------------\u001b[39m",
      "\u001b[31mAttributeError\u001b[39m                            Traceback (most recent call last)",
      "\u001b[36mCell\u001b[39m\u001b[36m \u001b[39m\u001b[32mIn[22]\u001b[39m\u001b[32m, line 14\u001b[39m\n\u001b[32m     11\u001b[39m         \u001b[38;5;28msuper\u001b[39m().\u001b[34m__init__\u001b[39m(name,age,gender)\n\u001b[32m     13\u001b[39m emp=Employees(\u001b[33m'\u001b[39m\u001b[33mkrish\u001b[39m\u001b[33m'\u001b[39m,\u001b[32m34\u001b[39m,\u001b[33m'\u001b[39m\u001b[33mM\u001b[39m\u001b[33m'\u001b[39m)\n\u001b[32m---> \u001b[39m\u001b[32m14\u001b[39m \u001b[38;5;28mprint\u001b[39m(\u001b[43memp\u001b[49m\u001b[43m.\u001b[49m\u001b[43m_name\u001b[49m)\n",
      "\u001b[31mAttributeError\u001b[39m: 'Employees' object has no attribute '_name'"
     ]
    }
   ],
   "source": [
    "## protected varibales\n",
    "\n",
    "class Person:\n",
    "    def __init__(self,name,age,gender):\n",
    "        self.__age=age    ## Protected varibales\n",
    "        self.__name=name  ## Protected varibales\n",
    "        self.gender=gender\n",
    "\n",
    "class Employees(Person):\n",
    "    def __init__(self,name,age,gender):\n",
    "        super().__init__(name,age,gender)\n",
    "\n",
    "emp=Employees('krish',34,'M')\n",
    "print(emp._name)"
   ]
  },
  {
   "cell_type": "code",
   "execution_count": 30,
   "id": "b0bfa0b8",
   "metadata": {},
   "outputs": [
    {
     "name": "stdout",
     "output_type": "stream",
     "text": [
      "amit\n",
      "45\n",
      "None\n",
      "vikas\n",
      "age cannot be updated for invalid numbers\n",
      "45\n"
     ]
    }
   ],
   "source": [
    "## encapsulation with getter and setter method\n",
    "\n",
    "class Person:\n",
    "    def __init__(self,name,age):\n",
    "        self.__name=name     #private access  modifier or varibale\n",
    "        self.__age=age   ## private variables\n",
    "\n",
    "    ## getter methood for name\n",
    "    def get_name(self):\n",
    "        return self.__name\n",
    "    \n",
    "    ## setter method for name\n",
    "    def set_name(self,name):\n",
    "        self.__name=name\n",
    "\n",
    "    ## getter for age\n",
    "    def get_age(self):\n",
    "        return self.__age\n",
    "    \n",
    "    ## setter for age\n",
    "    def set_age(self,age):\n",
    "        if age>0:\n",
    "            self.__age=age\n",
    "        else:\n",
    "            return \"age cannot be updated for invalid numbers\"\n",
    "        \n",
    "\n",
    "person=Person('amit',45)\n",
    "\n",
    "## access and modify private varibales from getter and setter\n",
    "print(person.get_name())\n",
    "print(person.get_age())\n",
    "print(person.set_name('vikas'))\n",
    "print(person.get_name())\n",
    "\n",
    "print(person.set_age(-89))\n",
    "print(person.get_age())"
   ]
  },
  {
   "cell_type": "code",
   "execution_count": null,
   "id": "88cbb3c7",
   "metadata": {},
   "outputs": [],
   "source": []
  }
 ],
 "metadata": {
  "kernelspec": {
   "display_name": "Python 3",
   "language": "python",
   "name": "python3"
  },
  "language_info": {
   "codemirror_mode": {
    "name": "ipython",
    "version": 3
   },
   "file_extension": ".py",
   "mimetype": "text/x-python",
   "name": "python",
   "nbconvert_exporter": "python",
   "pygments_lexer": "ipython3",
   "version": "3.12.0"
  }
 },
 "nbformat": 4,
 "nbformat_minor": 5
}
