{
 "cells": [
  {
   "cell_type": "code",
   "execution_count": null,
   "id": "738b95bd",
   "metadata": {},
   "outputs": [
    {
     "name": "stdout",
     "output_type": "stream",
     "text": [
      "<class '__main__.Car'>\n"
     ]
    }
   ],
   "source": [
    "## class is a blue print for creating objects .attributes,methods\n",
    "\n",
    "class Car:\n",
    "    pass\n",
    "\n",
    "car1=Car()\n",
    "car2=Car()\n",
    "\n",
    "\n",
    "print(type(car1))"
   ]
  },
  {
   "cell_type": "code",
   "execution_count": null,
   "id": "8f31a8f0",
   "metadata": {},
   "outputs": [
    {
     "name": "stdout",
     "output_type": "stream",
     "text": [
      "4\n"
     ]
    }
   ],
   "source": [
    "## attributes\n",
    "car1.door=4\n",
    "print(car1.door)"
   ]
  },
  {
   "cell_type": "code",
   "execution_count": 6,
   "id": "0f098de9",
   "metadata": {},
   "outputs": [
    {
     "data": {
      "text/plain": [
       "['__class__',\n",
       " '__delattr__',\n",
       " '__dict__',\n",
       " '__dir__',\n",
       " '__doc__',\n",
       " '__eq__',\n",
       " '__format__',\n",
       " '__ge__',\n",
       " '__getattribute__',\n",
       " '__getstate__',\n",
       " '__gt__',\n",
       " '__hash__',\n",
       " '__init__',\n",
       " '__init_subclass__',\n",
       " '__le__',\n",
       " '__lt__',\n",
       " '__module__',\n",
       " '__ne__',\n",
       " '__new__',\n",
       " '__reduce__',\n",
       " '__reduce_ex__',\n",
       " '__repr__',\n",
       " '__setattr__',\n",
       " '__sizeof__',\n",
       " '__str__',\n",
       " '__subclasshook__',\n",
       " '__weakref__',\n",
       " 'door']"
      ]
     },
     "execution_count": 6,
     "metadata": {},
     "output_type": "execute_result"
    }
   ],
   "source": [
    "dir(car1)"
   ]
  },
  {
   "cell_type": "code",
   "execution_count": 4,
   "id": "fe26a900",
   "metadata": {},
   "outputs": [
    {
     "name": "stdout",
     "output_type": "stream",
     "text": [
      "<__main__.Car object at 0x000001AFD8F80E60>\n",
      "<__main__.Car object at 0x000001AFD7AE2ED0>\n"
     ]
    }
   ],
   "source": [
    "print(car1)\n",
    "print(car2)"
   ]
  },
  {
   "cell_type": "code",
   "execution_count": 9,
   "id": "7d3a1703",
   "metadata": {},
   "outputs": [
    {
     "name": "stdout",
     "output_type": "stream",
     "text": [
      "<__main__.Dog object at 0x000001AFD9135130>\n"
     ]
    }
   ],
   "source": [
    "##Instance varibale and methods\n",
    "class Dog:\n",
    "    ##constructor\n",
    "    ## during the run time it requires value\n",
    "    def __init__(self,name,age):\n",
    "        ##instance varibales\n",
    "        self.name=name\n",
    "        self.age=age\n",
    "\n",
    "## create  object\n",
    "dog1=Dog('doggy',2)\n",
    "print(dog1)\n",
    "\n",
    "\n"
   ]
  },
  {
   "cell_type": "code",
   "execution_count": 11,
   "id": "9e95bde8",
   "metadata": {},
   "outputs": [
    {
     "name": "stdout",
     "output_type": "stream",
     "text": [
      "alpha\n"
     ]
    }
   ],
   "source": [
    "dog2=Dog('alpha',4)\n",
    "print(dog2.name)"
   ]
  },
  {
   "cell_type": "code",
   "execution_count": 13,
   "id": "d4902ff7",
   "metadata": {},
   "outputs": [
    {
     "name": "stdout",
     "output_type": "stream",
     "text": [
      "lucy says woof..\n"
     ]
    }
   ],
   "source": [
    "## define a class with instance method\n",
    "class Dog:\n",
    "    def __init__(self,name,age):\n",
    "        self.name=name\n",
    "        self.age=age\n",
    "    \n",
    "    def barks(self):\n",
    "        print(f\"{self.name} says woof..\")\n",
    "\n",
    "dog1=Dog('lucy',3)\n",
    "dog1.barks()\n",
    "    "
   ]
  },
  {
   "cell_type": "code",
   "execution_count": null,
   "id": "bcfdfea4",
   "metadata": {},
   "outputs": [
    {
     "name": "stdout",
     "output_type": "stream",
     "text": [
      "500\n"
     ]
    }
   ],
   "source": [
    "## modelling a bank account\n",
    "\n",
    "## out of the class self keyword cannot be used\n",
    "class Bank:\n",
    "    def __init__(self,owner,balance=0):\n",
    "        self.owner=owner\n",
    "        self.balance=balance\n",
    "\n",
    "    ##instance\n",
    "    def deposite(self,amount):\n",
    "        self.balance+=amount\n",
    "        print(f\"{amount} is deposited.New balance is {self.balance}\")\n",
    "\n",
    "     ##instance\n",
    "    def withdraw(self,amount):\n",
    "        if amount>self.balance:\n",
    "            print(\"Insufficent amount\")\n",
    "        else:\n",
    "             self.balance-=amount\n",
    "             print(f\" hey ! {amount} is withdrawn. new balance is {self.balance}\")\n",
    "\n",
    "     ##instance\n",
    "    def getBalance(self):\n",
    "        print(f\"your balance is: {self.balance}\")\n",
    "\n",
    "    \n",
    "## create an object\n",
    "account=Bank('akbar',500)\n",
    "print(account.balance)\n",
    "\n",
    "\n",
    "       \n",
    "\n"
   ]
  },
  {
   "cell_type": "code",
   "execution_count": 15,
   "id": "670fdb0d",
   "metadata": {},
   "outputs": [
    {
     "name": "stdout",
     "output_type": "stream",
     "text": [
      "Insufficent amount\n"
     ]
    }
   ],
   "source": [
    "## call instance method\n",
    "account.withdraw(600)"
   ]
  },
  {
   "cell_type": "code",
   "execution_count": 16,
   "id": "1bad19c4",
   "metadata": {},
   "outputs": [
    {
     "name": "stdout",
     "output_type": "stream",
     "text": [
      " hey ! 200 is withdrawn. new balance is 300\n"
     ]
    }
   ],
   "source": [
    "account.withdraw(200)"
   ]
  },
  {
   "cell_type": "code",
   "execution_count": 17,
   "id": "04006a07",
   "metadata": {},
   "outputs": [
    {
     "name": "stdout",
     "output_type": "stream",
     "text": [
      "3400 is deposited.New balance is 3700\n"
     ]
    }
   ],
   "source": [
    "account.deposite(3400)"
   ]
  },
  {
   "cell_type": "code",
   "execution_count": 18,
   "id": "4fc44d7f",
   "metadata": {},
   "outputs": [
    {
     "name": "stdout",
     "output_type": "stream",
     "text": [
      " hey ! 349 is withdrawn. new balance is 3351\n"
     ]
    }
   ],
   "source": [
    "account.withdraw(349)"
   ]
  },
  {
   "cell_type": "code",
   "execution_count": 19,
   "id": "aab87bf6",
   "metadata": {},
   "outputs": [
    {
     "name": "stdout",
     "output_type": "stream",
     "text": [
      "your balance is: 3351\n"
     ]
    }
   ],
   "source": [
    "account.getBalance()"
   ]
  },
  {
   "cell_type": "code",
   "execution_count": 28,
   "id": "e116d346",
   "metadata": {},
   "outputs": [],
   "source": [
    "class Bank:\n",
    "    def __init__(self,owner,balance=0):\n",
    "        self.owner=owner\n",
    "        self.balance=balance\n",
    "\n",
    "\n",
    "    def withdraw(self,amount):\n",
    "        if amount>self.balance:\n",
    "            return f\"Insufficent balance your balance is: {self.balance}\"\n",
    "\n",
    "        else:\n",
    "            self.balance-=amount\n",
    "            return f\"you have withdrawn: {amount} and your current balance is:{self.balance} \"\n",
    "            \n",
    "        \n",
    "    def deposite(self,amount):\n",
    "        self.balance+=amount\n",
    "        return f\"your new balance is : {self.balance}\"\n",
    "    \n",
    "    def getOwner(self):\n",
    "        return f\"Owner is: {self.owner} and your current balance is :{self.balance}\"\n",
    "\n",
    "customer=Bank(\"Amit\",2300)"
   ]
  },
  {
   "cell_type": "code",
   "execution_count": 21,
   "id": "a61a9732",
   "metadata": {},
   "outputs": [
    {
     "name": "stdout",
     "output_type": "stream",
     "text": [
      "3031.7000000000007\n",
      "Amit\n",
      "you have withdrawn: 990 and your current balance is:3242.040000000001 \n"
     ]
    }
   ],
   "source": [
    "print(customer.balance)\n",
    "print(customer.owner)\n",
    "customer.deposite(1200.34)\n",
    "print(customer.withdraw(990))\n"
   ]
  },
  {
   "cell_type": "code",
   "execution_count": 37,
   "id": "56f2c69b",
   "metadata": {},
   "outputs": [
    {
     "data": {
      "text/plain": [
       "'Insufficent balance your balance is: 0'"
      ]
     },
     "execution_count": 37,
     "metadata": {},
     "output_type": "execute_result"
    }
   ],
   "source": [
    "customer.withdraw(1)"
   ]
  },
  {
   "cell_type": "code",
   "execution_count": 38,
   "id": "6a94d9d6",
   "metadata": {},
   "outputs": [
    {
     "data": {
      "text/plain": [
       "'Owner is: Amit and your current balance is :0'"
      ]
     },
     "execution_count": 38,
     "metadata": {},
     "output_type": "execute_result"
    }
   ],
   "source": [
    "customer.getOwner()"
   ]
  },
  {
   "cell_type": "code",
   "execution_count": null,
   "id": "0a2cabec",
   "metadata": {},
   "outputs": [
    {
     "name": "stdout",
     "output_type": "stream",
     "text": [
      "Book \"Discovery\" added to the library.\n",
      "Book \"Python Basics\" added to the library.\n",
      "\n",
      "All books:\n",
      "\"Discovery\" by Ramesh - Available\n",
      "\"Python Basics\" by Suresh - Available\n",
      "\n",
      "Borrowing 'Discovery':\n",
      "You borrowed \"Discovery\".\n",
      "\n",
      "All books after borrowing:\n",
      "\"Discovery\" by Ramesh - Not Available\n",
      "\"Python Basics\" by Suresh - Available\n",
      "\n",
      "Returning 'Discovery':\n",
      "You returned \"Discovery\".\n",
      "\n",
      "Final library status:\n",
      "\"Discovery\" by Ramesh - Available\n",
      "\"Python Basics\" by Suresh - Available\n"
     ]
    }
   ],
   "source": [
    "class Book:\n",
    "    def __init__(self, author, title, available=True):\n",
    "        self.author = author\n",
    "        self.title = title\n",
    "        self.available = available\n",
    "\n",
    "    def __str__(self):\n",
    "        status = \"Available\" if self.available else \"Not Available\"\n",
    "        return f'\"{self.title}\" by {self.author} - {status}'\n",
    "\n",
    "\n",
    "class Library:\n",
    "    def __init__(self):\n",
    "        self.all_books = []\n",
    "\n",
    "    def add_book(self, book):\n",
    "        self.all_books.append(book)\n",
    "        return f'Book \"{book.title}\" added to the library.'\n",
    "\n",
    "    def borrow_book(self, title):\n",
    "        for book in self.all_books:\n",
    "            if book.title.lower() == title.lower() and book.available:\n",
    "                book.available = False\n",
    "                return f'You borrowed \"{book.title}\".'\n",
    "        return \"Book not available.\"\n",
    "\n",
    "    def return_book(self, title):\n",
    "        for book in self.all_books:\n",
    "            if book.title.lower() == title.lower() and not book.available:\n",
    "                book.available = True\n",
    "                return f'You returned \"{book.title}\".'\n",
    "        return \"Book not found or already available.\"\n",
    "\n",
    "    def list_books(self):\n",
    "        return [str(book) for book in self.all_books]\n",
    "\n",
    "\n",
    "\n",
    "\n",
    "book1 = Book(\"Ramesh\", \"Discovery\")\n",
    "book2 = Book(\"Suresh\", \"Python Basics\")\n",
    "\n",
    "lib = Library()\n",
    "print(lib.add_book(book1))\n",
    "print(lib.add_book(book2))\n",
    "\n",
    "print(\"\\nAll books:\")\n",
    "print(\"\\n\".join(lib.list_books()))\n",
    "\n",
    "print(\"\\nBorrowing 'Discovery':\")\n",
    "print(lib.borrow_book(\"Discovery\"))\n",
    "\n",
    "print(\"\\nAll books after borrowing:\")\n",
    "print(\"\\n\".join(lib.list_books()))\n",
    "\n",
    "print(\"\\nReturning 'Discovery':\")\n",
    "print(lib.return_book(\"Discovery\"))\n",
    "\n",
    "print(\"\\nFinal library status:\")\n",
    "print(\"\\n\".join(lib.list_books()))\n",
    "\n",
    "\n",
    "    \n"
   ]
  },
  {
   "cell_type": "code",
   "execution_count": null,
   "id": "0520ebb9",
   "metadata": {},
   "outputs": [],
   "source": []
  }
 ],
 "metadata": {
  "kernelspec": {
   "display_name": "Python 3",
   "language": "python",
   "name": "python3"
  },
  "language_info": {
   "codemirror_mode": {
    "name": "ipython",
    "version": 3
   },
   "file_extension": ".py",
   "mimetype": "text/x-python",
   "name": "python",
   "nbconvert_exporter": "python",
   "pygments_lexer": "ipython3",
   "version": "3.12.0"
  }
 },
 "nbformat": 4,
 "nbformat_minor": 5
}
