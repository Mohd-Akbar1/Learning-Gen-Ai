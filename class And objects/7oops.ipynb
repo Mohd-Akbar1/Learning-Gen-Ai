{
 "cells": [
  {
   "cell_type": "code",
   "execution_count": null,
   "id": "738b95bd",
   "metadata": {},
   "outputs": [
    {
     "name": "stdout",
     "output_type": "stream",
     "text": [
      "<class '__main__.Car'>\n"
     ]
    }
   ],
   "source": [
    "## class is a blue print for creating objects .attributes,methods\n",
    "\n",
    "class Car:\n",
    "    pass\n",
    "\n",
    "car1=Car()\n",
    "car2=Car()\n",
    "\n",
    "\n",
    "print(type(car1))"
   ]
  },
  {
   "cell_type": "code",
   "execution_count": null,
   "id": "8f31a8f0",
   "metadata": {},
   "outputs": [
    {
     "name": "stdout",
     "output_type": "stream",
     "text": [
      "4\n"
     ]
    }
   ],
   "source": [
    "## attributes\n",
    "car1.door=4\n",
    "print(car1.door)"
   ]
  },
  {
   "cell_type": "code",
   "execution_count": 6,
   "id": "0f098de9",
   "metadata": {},
   "outputs": [
    {
     "data": {
      "text/plain": [
       "['__class__',\n",
       " '__delattr__',\n",
       " '__dict__',\n",
       " '__dir__',\n",
       " '__doc__',\n",
       " '__eq__',\n",
       " '__format__',\n",
       " '__ge__',\n",
       " '__getattribute__',\n",
       " '__getstate__',\n",
       " '__gt__',\n",
       " '__hash__',\n",
       " '__init__',\n",
       " '__init_subclass__',\n",
       " '__le__',\n",
       " '__lt__',\n",
       " '__module__',\n",
       " '__ne__',\n",
       " '__new__',\n",
       " '__reduce__',\n",
       " '__reduce_ex__',\n",
       " '__repr__',\n",
       " '__setattr__',\n",
       " '__sizeof__',\n",
       " '__str__',\n",
       " '__subclasshook__',\n",
       " '__weakref__',\n",
       " 'door']"
      ]
     },
     "execution_count": 6,
     "metadata": {},
     "output_type": "execute_result"
    }
   ],
   "source": [
    "dir(car1)"
   ]
  },
  {
   "cell_type": "code",
   "execution_count": 4,
   "id": "fe26a900",
   "metadata": {},
   "outputs": [
    {
     "name": "stdout",
     "output_type": "stream",
     "text": [
      "<__main__.Car object at 0x000001AFD8F80E60>\n",
      "<__main__.Car object at 0x000001AFD7AE2ED0>\n"
     ]
    }
   ],
   "source": [
    "print(car1)\n",
    "print(car2)"
   ]
  },
  {
   "cell_type": "code",
   "execution_count": 9,
   "id": "7d3a1703",
   "metadata": {},
   "outputs": [
    {
     "name": "stdout",
     "output_type": "stream",
     "text": [
      "<__main__.Dog object at 0x000001AFD9135130>\n"
     ]
    }
   ],
   "source": [
    "##Instance varibale and methods\n",
    "class Dog:\n",
    "    ##constructor\n",
    "    ## during the run time it requires value\n",
    "    def __init__(self,name,age):\n",
    "        ##instance varibales\n",
    "        self.name=name\n",
    "        self.age=age\n",
    "\n",
    "## create  object\n",
    "dog1=Dog('doggy',2)\n",
    "print(dog1)\n",
    "\n",
    "\n"
   ]
  },
  {
   "cell_type": "code",
   "execution_count": 11,
   "id": "9e95bde8",
   "metadata": {},
   "outputs": [
    {
     "name": "stdout",
     "output_type": "stream",
     "text": [
      "alpha\n"
     ]
    }
   ],
   "source": [
    "dog2=Dog('alpha',4)\n",
    "print(dog2.name)"
   ]
  },
  {
   "cell_type": "code",
   "execution_count": 13,
   "id": "d4902ff7",
   "metadata": {},
   "outputs": [
    {
     "name": "stdout",
     "output_type": "stream",
     "text": [
      "lucy says woof..\n"
     ]
    }
   ],
   "source": [
    "## define a class with instance method\n",
    "class Dog:\n",
    "    def __init__(self,name,age):\n",
    "        self.name=name\n",
    "        self.age=age\n",
    "    \n",
    "    def barks(self):\n",
    "        print(f\"{self.name} says woof..\")\n",
    "\n",
    "dog1=Dog('lucy',3)\n",
    "dog1.barks()\n",
    "    "
   ]
  },
  {
   "cell_type": "code",
   "execution_count": null,
   "id": "bcfdfea4",
   "metadata": {},
   "outputs": [
    {
     "name": "stdout",
     "output_type": "stream",
     "text": [
      "500\n"
     ]
    }
   ],
   "source": [
    "## modelling a bank account\n",
    "\n",
    "## out of the class self keyword cannot be used\n",
    "class Bank:\n",
    "    def __init__(self,owner,balance=0):\n",
    "        self.owner=owner\n",
    "        self.balance=balance\n",
    "\n",
    "    ##instance\n",
    "    def deposite(self,amount):\n",
    "        self.balance+=amount\n",
    "        print(f\"{amount} is deposited.New balance is {self.balance}\")\n",
    "\n",
    "     ##instance\n",
    "    def withdraw(self,amount):\n",
    "        if amount>self.balance:\n",
    "            print(\"Insufficent amount\")\n",
    "        else:\n",
    "             self.balance-=amount\n",
    "             print(f\" hey ! {amount} is withdrawn. new balance is {self.balance}\")\n",
    "\n",
    "     ##instance\n",
    "    def getBalance(self):\n",
    "        print(f\"your balance is: {self.balance}\")\n",
    "\n",
    "    \n",
    "## create an object\n",
    "account=Bank('akbar',500)\n",
    "print(account.balance)\n",
    "\n",
    "\n",
    "       \n",
    "\n"
   ]
  },
  {
   "cell_type": "code",
   "execution_count": 15,
   "id": "670fdb0d",
   "metadata": {},
   "outputs": [
    {
     "name": "stdout",
     "output_type": "stream",
     "text": [
      "Insufficent amount\n"
     ]
    }
   ],
   "source": [
    "## call instance method\n",
    "account.withdraw(600)"
   ]
  },
  {
   "cell_type": "code",
   "execution_count": 16,
   "id": "1bad19c4",
   "metadata": {},
   "outputs": [
    {
     "name": "stdout",
     "output_type": "stream",
     "text": [
      " hey ! 200 is withdrawn. new balance is 300\n"
     ]
    }
   ],
   "source": [
    "account.withdraw(200)"
   ]
  },
  {
   "cell_type": "code",
   "execution_count": 17,
   "id": "04006a07",
   "metadata": {},
   "outputs": [
    {
     "name": "stdout",
     "output_type": "stream",
     "text": [
      "3400 is deposited.New balance is 3700\n"
     ]
    }
   ],
   "source": [
    "account.deposite(3400)"
   ]
  },
  {
   "cell_type": "code",
   "execution_count": 18,
   "id": "4fc44d7f",
   "metadata": {},
   "outputs": [
    {
     "name": "stdout",
     "output_type": "stream",
     "text": [
      " hey ! 349 is withdrawn. new balance is 3351\n"
     ]
    }
   ],
   "source": [
    "account.withdraw(349)"
   ]
  },
  {
   "cell_type": "code",
   "execution_count": 19,
   "id": "aab87bf6",
   "metadata": {},
   "outputs": [
    {
     "name": "stdout",
     "output_type": "stream",
     "text": [
      "your balance is: 3351\n"
     ]
    }
   ],
   "source": [
    "account.getBalance()"
   ]
  },
  {
   "cell_type": "code",
   "execution_count": null,
   "id": "e116d346",
   "metadata": {},
   "outputs": [],
   "source": []
  }
 ],
 "metadata": {
  "kernelspec": {
   "display_name": "Python 3",
   "language": "python",
   "name": "python3"
  },
  "language_info": {
   "codemirror_mode": {
    "name": "ipython",
    "version": 3
   },
   "file_extension": ".py",
   "mimetype": "text/x-python",
   "name": "python",
   "nbconvert_exporter": "python",
   "pygments_lexer": "ipython3",
   "version": "3.12.0"
  }
 },
 "nbformat": 4,
 "nbformat_minor": 5
}
