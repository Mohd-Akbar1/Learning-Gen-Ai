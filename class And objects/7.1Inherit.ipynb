{
 "cells": [
  {
   "cell_type": "markdown",
   "id": "53557ba1",
   "metadata": {},
   "source": [
    "inheritance in pyhton \n",
    "getting parent property"
   ]
  },
  {
   "cell_type": "code",
   "execution_count": null,
   "id": "7c29ddf4",
   "metadata": {},
   "outputs": [],
   "source": [
    "##Inheritance\n",
    " ##single inheritance\n",
    "\n",
    "##parent class\n",
    "class Car:\n",
    "    def __init__(self,windows,doors,engine):\n",
    "        self.windows=windows\n",
    "        self.doors=doors\n",
    "        self.engine=engine\n",
    "    ##instance\n",
    "    def drive(self):\n",
    "        print(f\"person will drive {self.engine} car\")\n",
    "\n",
    "\n",
    "##object\n",
    "car1=Car(4,5,\"diesel\")\n"
   ]
  },
  {
   "cell_type": "code",
   "execution_count": 4,
   "id": "ecb5896c",
   "metadata": {},
   "outputs": [
    {
     "name": "stdout",
     "output_type": "stream",
     "text": [
      "person  will drive diesel car\n"
     ]
    }
   ],
   "source": [
    "car1.drive()"
   ]
  },
  {
   "cell_type": "code",
   "execution_count": 6,
   "id": "bc18b9db",
   "metadata": {},
   "outputs": [],
   "source": [
    "## child example inheriting parent properties\n",
    "class Tesla(Car):\n",
    "    def __init__(self,windows,doors,engine,isAutomatic):\n",
    "        super().__init__(windows,doors,engine)\n",
    "        self.isAutomatic=isAutomatic\n",
    "    \n",
    "    ##instance\n",
    "    def selfDriving(self):\n",
    "        print(f'Tesla supports selDriving is {self.isAutomatic}')\n"
   ]
  },
  {
   "cell_type": "code",
   "execution_count": 8,
   "id": "d4c7e13e",
   "metadata": {},
   "outputs": [
    {
     "name": "stdout",
     "output_type": "stream",
     "text": [
      "Tesla supports selDriving is True\n",
      "person  will drive electric car\n",
      "None\n"
     ]
    }
   ],
   "source": [
    "tesla1=Tesla(3,5,'electric',True)\n",
    "tesla1.selfDriving()\n",
    "print(tesla1.drive())"
   ]
  },
  {
   "cell_type": "markdown",
   "id": "d24b767f",
   "metadata": {},
   "source": [
    "multiple inheritance,\n",
    "when a class inherit property from multiple class than it is multi inheritance\n"
   ]
  },
  {
   "cell_type": "code",
   "execution_count": 15,
   "id": "c84f2a2b",
   "metadata": {},
   "outputs": [
    {
     "name": "stdout",
     "output_type": "stream",
     "text": [
      "sheperd says woof..\n",
      "owner is ramesh\n"
     ]
    }
   ],
   "source": [
    "## when a class inherit from more than 1 base class\n",
    "\n",
    "## base class 1\n",
    "class Animal:\n",
    "    def __init__(self,name):\n",
    "        self.name=name\n",
    "\n",
    "    ##instance\n",
    "    def speak(self):\n",
    "        print(f\"subclass must implelemt this method\")\n",
    "\n",
    "## Base class 2\n",
    "class Pet:\n",
    "    def __init__(self,owner):\n",
    "        self.owner=owner\n",
    "\n",
    "## derived class\n",
    "class Dog(Animal,Pet):\n",
    "    def __init__(self,name,owner):\n",
    "        Animal.__init__(self,name)\n",
    "        Pet.__init__(self,owner)\n",
    "    def speak(self):\n",
    "        return f\"{self.name} says woof..\"\n",
    "\n",
    "dog=Dog('sheperd','ramesh')\n",
    "print(dog.speak())\n",
    "print(f\"owner is {dog.owner}\")"
   ]
  },
  {
   "cell_type": "code",
   "execution_count": null,
   "id": "dc691e91",
   "metadata": {},
   "outputs": [],
   "source": []
  }
 ],
 "metadata": {
  "kernelspec": {
   "display_name": "Python 3",
   "language": "python",
   "name": "python3"
  },
  "language_info": {
   "codemirror_mode": {
    "name": "ipython",
    "version": 3
   },
   "file_extension": ".py",
   "mimetype": "text/x-python",
   "name": "python",
   "nbconvert_exporter": "python",
   "pygments_lexer": "ipython3",
   "version": "3.12.0"
  }
 },
 "nbformat": 4,
 "nbformat_minor": 5
}
